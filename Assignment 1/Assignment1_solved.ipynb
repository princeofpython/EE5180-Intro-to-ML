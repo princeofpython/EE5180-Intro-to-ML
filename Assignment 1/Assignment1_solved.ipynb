{
 "cells": [
  {
   "cell_type": "markdown",
   "metadata": {
    "colab_type": "text",
    "id": "YqdW05iuaJDW"
   },
   "source": [
    "# Problem 1: Bayes Classifier\n",
    "\n",
    "Bayes classifiers fall under the class of **generative classifiers**. Generative classifiers attempt to learn the generation process of a dataset, usually by making some assumptions about the process that generates the data. Then such classifiers use the learned model to make a prediction or classify the unseen data. A simple example is a Naïve Bayes Classifier."
   ]
  },
  {
   "cell_type": "markdown",
   "metadata": {
    "colab_type": "text",
    "id": "hHh1lpZBiblL"
   },
   "source": [
    "### Naïve Bayes classifier\n",
    "Consider a dataset $\\left\\{X^{(i)}, Y^{(i)}\\right\\}_{i=1}^{m}$. Each $X^{(i)}$ is an $n-$dimensional vector of input features. Let $Y^{(i)} \\in \\{0,1\\}$ denote the class to which $X^{(i)}$ belongs (this can be easily extended to multi-class problems as well). A good classifier has to accurately predict the probability that any given input $X$ falls in class $1$ which is $ P(Y=1 | X)$. \n",
    "\n",
    "Recall Bayes theorem,\n",
    "\n",
    "\\begin{align}\n",
    "P(Y|X) &= \\frac{P(X|Y)P(Y)}{P(X)} \\\\\n",
    "       &= \\frac{P(X_1, X_2, \\dots, X_n | Y)P(Y)}{P(X_1, X_2, \\dots, X_n)}\\\\\n",
    "\\end{align}\n",
    "\n",
    "**We use the assumption that features are independent of each other. That is one particular feature does not affect any other feature. Of course these assumptions of independence are rarely true, which is why the model is referred as the \"Naïve Bayes\" model. However, in practice, Naïve Bayes models have performed surprisingly well even on complex tasks, where it is clear that the strong independence assumptions are false.**\n",
    "\n",
    "The independence assumption reduces the conditional probability expression to\n",
    "\\begin{align}\n",
    "P(Y|X) &= \\frac{P(X_1 | Y)P(X_2 | Y) \\dots P(X_n | Y)P(Y)}{P(X_1)P(X_2)\\dots P(X_n)}\\\\\n",
    "\\end{align}\n",
    "\n",
    "The terms $P(X_i|Y)$ and $P(X_i)$ can be easily estimated/learned from the dataset. Hence, the value of $P(Y|X)$ can be found for each value of $Y$. Finally, the class to which $X$ belongs is estimated as $arg\\max_{Y}P(Y|X)$. Moreover since $X$ is independent of $Y$, it is only required to find $arg\\max_{Y}P(X|Y)P(Y).$ For better understanding with an example refer [this](https://towardsdatascience.com/naive-bayes-classifier-81d512f50a7c) article.\n"
   ]
  },
  {
   "cell_type": "markdown",
   "metadata": {
    "colab_type": "text",
    "id": "9Xue1NVSA3WS"
   },
   "source": [
    "### Problem statement and Dataset\n",
    "In this problem, you would implement, train and test a Naïve Bayes model to learn to classify sentiment (positive/negative) of a given text. The training data is in `all_sentiment_shuffled.txt` file.  You can use the function given below to read the dataset\n"
   ]
  },
  {
   "cell_type": "code",
   "execution_count": 1,
   "metadata": {
    "colab": {},
    "colab_type": "code",
    "id": "NyeDf2Vn4xDW"
   },
   "outputs": [],
   "source": [
    "def read_corpus(corpus_file):\n",
    "    \"\"\" This function reads the file in the location specified by string \n",
    "    `corpus_file` and returns a list of tuples (list of words in text, label)\n",
    "    \"\"\"\n",
    "    out = []\n",
    "    with open(corpus_file, encoding=\"utf8\") as f:\n",
    "        for line in f:\n",
    "            tokens = line.strip().split()\n",
    "            out.append([tokens[3:], tokens[1]])\n",
    "    return out"
   ]
  },
  {
   "cell_type": "code",
   "execution_count": 2,
   "metadata": {
    "colab": {
     "base_uri": "https://localhost:8080/",
     "height": 105
    },
    "colab_type": "code",
    "executionInfo": {
     "elapsed": 1137,
     "status": "ok",
     "timestamp": 1581051740421,
     "user": {
      "displayName": "R KAUSHIK ee15b105",
      "photoUrl": "",
      "userId": "12489448856984562982"
     },
     "user_tz": -330
    },
    "id": "sA3_sL7OAkF2",
    "outputId": "1ab9f863-23ee-45f8-87fa-6a1703e8941f"
   },
   "outputs": [
    {
     "name": "stdout",
     "output_type": "stream",
     "text": [
      "Example:\n",
      "  Text:  ['i', 'bought', 'this', 'album', 'because', 'i', 'loved', 'the', 'title', 'song', '.', 'it', \"'s\", 'such', 'a', 'great', 'song', ',', 'how', 'bad', 'can', 'the', 'rest', 'of', 'the', 'album', 'be', ',', 'right', '?', 'well', ',', 'the', 'rest', 'of', 'the', 'songs', 'are', 'just', 'filler', 'and', 'are', \"n't\", 'worth', 'the', 'money', 'i', 'paid', 'for', 'this', '.', 'it', \"'s\", 'either', 'shameless', 'bubblegum', 'or', 'oversentimentalized', 'depressing', 'tripe', '.', 'kenny', 'chesney', 'is', 'a', 'popular', 'artist', 'and', 'as', 'a', 'result', 'he', 'is', 'in', 'the', 'cookie', 'cutter', 'category', 'of', 'the', 'nashville', 'music', 'scene', '.', 'he', \"'s\", 'gotta', 'pump', 'out', 'the', 'albums', 'so', 'the', 'record', 'company', 'can', 'keep', 'lining', 'their', 'pockets', 'while', 'the', 'suckers', 'out', 'there', 'keep', 'buying', 'this', 'garbage', 'to', 'perpetuate', 'more', 'garbage', 'coming', 'out', 'of', 'that', 'town', '.', 'i', \"'ll\", 'get', 'down', 'off', 'my', 'soapbox', 'now', '.', 'but', 'country', 'music', 'really', 'needs', 'to', 'get', 'back', 'to', 'it', \"'s\", 'roots', 'and', 'stop', 'this', 'pop', 'nonsense', '.', 'what', 'country', 'music', 'really', 'is', 'and', 'what', 'it', 'is', 'considered', 'to', 'be', 'by', 'mainstream', 'are', 'two', 'different', 'things', '.'] \n",
      "Label:  neg\n",
      "Total number of documents = 11914\n"
     ]
    }
   ],
   "source": [
    "corpus = read_corpus('./all_sentiment_shuffled.txt')\n",
    "print(\"Example:\\n\", \" Text: \", corpus[0][0], \"\\nLabel: \", corpus[0][1])\n",
    "print(\"Total number of documents =\", len(corpus))"
   ]
  },
  {
   "cell_type": "markdown",
   "metadata": {
    "colab_type": "text",
    "id": "fGv7az_y6Wyk"
   },
   "source": [
    "### Preprocessing a text document\n",
    "We can guess that not all the words in a document will be helpful in classification. The words such as \"a\", \"the\", \"is\", etc appear in all the documents randomly and can be neglected or removed. Also a same word can be written in different tenses while conveying the same mood (example \"rot\"/\"rotten\"). Hence the documents need to be preprocessed before using them for training the classifier.\n",
    "\n",
    " Libraries such as `gensim`, `nltk` contain functions for doing these preprocessing steps, and you are welcome to use such functions in your code. Formally, these are the preprocessings to be done to the input text to make them simpler and which can improve the performance of your model as well.\n",
    "* **Tokenization**: \n",
    "    1.   Split the text into sentences and the sentences into words\n",
    "    2.   Lowercase the words and remove punctuation\n",
    "* Remove all **stopwords** (stopwords are commonly used word such as \"the\", \"a\", \"an\", \"in\")\n",
    "* Remove all words that have fewer than 3 characters.\n",
    "* **Lemmatize** the document (words in third person are changed to first person, and verbs in past and future tenses are changed into present).\n"
   ]
  },
  {
   "cell_type": "code",
   "execution_count": 3,
   "metadata": {
    "colab": {},
    "colab_type": "code",
    "id": "HtSfxXMwZj8J"
   },
   "outputs": [],
   "source": [
    "\"\"\" Implement preprocessing functions here. Use the python modules named above \n",
    "for implementing the functions. \n",
    "\"\"\"\n",
    "\n",
    "# Removes all the punctuations present in the document\n",
    "def remove_punctuation(doc):\n",
    "    # implement\n",
    "    words = [word for word in doc if word.isalpha()]\n",
    "    return words[:]\n",
    "    # comment the next line out\n",
    "    #pass\n",
    "\n",
    "# Removes words like 'if', 'he', 'she', 'the', etc which never belongs to any topic\n",
    "def remove_stopwords(doc):\n",
    "    # implement\n",
    "    from nltk.corpus import stopwords\n",
    "    stop_words = stopwords.words('english')\n",
    "    words = [word for word in doc if not word in stop_words]\n",
    "    return words[:]\n",
    "    # comment the next line out\n",
    "    #pass\n",
    "\n",
    "# lemmatizer is a transformers which transforms the word to its singular, present-tense form\n",
    "def lemmatize(doc):\n",
    "    # implement\n",
    "    from nltk.stem import WordNetLemmatizer\n",
    "    lemmatizer = WordNetLemmatizer()\n",
    "    words = [lemmatizer.lemmatize(word) for word in doc]\n",
    "    # comment the next line out\n",
    "    #pass\n",
    "    return words[:]\n",
    "\n",
    "def preprocess(doc):\n",
    "    \"\"\" Function to preprocess a single document\n",
    "    \"\"\"\n",
    "    assert isinstance(doc, list) \n",
    "    processed_doc = remove_punctuation(doc)\n",
    "    processed_doc = remove_stopwords(processed_doc)\n",
    "    processed_doc = lemmatize(processed_doc)\n",
    "    return processed_doc"
   ]
  },
  {
   "cell_type": "code",
   "execution_count": 4,
   "metadata": {},
   "outputs": [
    {
     "name": "stdout",
     "output_type": "stream",
     "text": [
      "5914 6000\n"
     ]
    }
   ],
   "source": [
    "#counting neg data\n",
    "negcount=0\n",
    "for i in range(len(corpus)):\n",
    "    if corpus[i][1]=='neg':\n",
    "        negcount+=1\n",
    "poscount=len(corpus)-negcount\n",
    "print(negcount, poscount)"
   ]
  },
  {
   "cell_type": "markdown",
   "metadata": {},
   "source": [
    "**We can see that we have 5914 statements with negative labels and 6000 statements with positive labels.**"
   ]
  },
  {
   "cell_type": "markdown",
   "metadata": {
    "colab_type": "text",
    "id": "oRxDShbjAXjI"
   },
   "source": [
    "### Implementation of Naïve Bayes \n",
    "\n",
    "You can refer the Naïve Bayes section in [this](https://web.stanford.edu/~jurafsky/slp3/slides/7_NB.pdf) slides (slide #32 has a simple pseudo code) to get a hint about implementation of Naïve Bayes for text classification. Then complete the following functions `train_nb` and `classify_nb`.\n",
    "\n",
    "NOTE: If you multiply many small probabilities you may run into problems with numeric precision: the probability becomes zero. To handle this problem, it is recommended that you compute the logarithms of the probabilities instead of the probabilities."
   ]
  },
  {
   "cell_type": "code",
   "execution_count": 5,
   "metadata": {
    "colab": {},
    "colab_type": "code",
    "id": "pz0ljnxZAfFX"
   },
   "outputs": [],
   "source": [
    "def train_nb(corpus):\n",
    "    # return the data you need to classify new instances\n",
    "    corpusX = [(preprocess(corpus[i][0]),corpus[i][1]) for i in range(len(corpus))]\n",
    "    negcount=0\n",
    "    for i in range(len(corpus)):\n",
    "        if corpus[i][1]=='neg':\n",
    "            negcount+=1\n",
    "    poscount=len(corpus)-negcount\n",
    "    PofCs=[negcount/(negcount+poscount), poscount/(negcount+poscount)] #p(c)\n",
    "    \n",
    "    vocabularyN={} #dictionary containing no: of occurences of each word in neg statements\n",
    "    vocabularyP={}\n",
    "    for i in range(len(corpusX)):\n",
    "        if corpusX[i][1]=='neg':\n",
    "            for each in corpusX[i][0]:\n",
    "                try:\n",
    "                    vocabularyN[each]+=1\n",
    "                except:\n",
    "                    vocabularyN[each]=1\n",
    "        else:\n",
    "            for each in corpusX[i][0]:\n",
    "                try:\n",
    "                    vocabularyP[each]+=1\n",
    "                except:\n",
    "                    vocabularyP[each]=1\n",
    "    return vocabularyN, vocabularyP, PofCs  # used for predicting test data.\n",
    "    # comment the next line out\n",
    "    #pass\n",
    "\n",
    "def classify_nb(docs, vocabularyN, vocabularyP, PofCs,alpha=1):\n",
    "    # return the guess of the classifier\n",
    "    from math import log\n",
    "    from math import exp\n",
    "    Ps=sum(vocabularyP.values())\n",
    "    Ns=sum(vocabularyN.values())\n",
    "    Pss=len(vocabularyP)\n",
    "    Nss=len(vocabularyN)\n",
    "    final = []\n",
    "    for doc in docs:\n",
    "        assert isinstance(doc, list)\n",
    "        docX = preprocess(doc)\n",
    "        A=B=0\n",
    "        for word in docX:\n",
    "            try:\n",
    "                A+=log((Ns+alpha*Nss)/(vocabularyN[word]+alpha))\n",
    "            except KeyError:\n",
    "                A+=log((Ns+alpha*Nss)/(alpha))\n",
    "            try:\n",
    "                B+=log((Ps+alpha*Pss)/(vocabularyP[word]+alpha))\n",
    "            except KeyError:\n",
    "                B+=log((Ps+alpha*Pss)/(alpha))\n",
    "        \n",
    "        AA = PofCs[0]*exp(-A)\n",
    "        BB = PofCs[1]*exp(-B)\n",
    "        final.append('neg' if AA > BB else 'pos')\n",
    "    #return [corpus[i][1] for i in range(len(corpus))]\n",
    "    # comment the next line out\n",
    "    return final"
   ]
  },
  {
   "cell_type": "code",
   "execution_count": 6,
   "metadata": {},
   "outputs": [],
   "source": [
    "vocabularyN, vocabularyP, PofCs = train_nb(corpus)"
   ]
  },
  {
   "cell_type": "code",
   "execution_count": 7,
   "metadata": {},
   "outputs": [
    {
     "data": {
      "text/plain": [
       "['pos']"
      ]
     },
     "execution_count": 7,
     "metadata": {},
     "output_type": "execute_result"
    }
   ],
   "source": [
    "classify_nb([corpus[3][0]], vocabularyN, vocabularyP, PofCs)"
   ]
  },
  {
   "cell_type": "code",
   "execution_count": 8,
   "metadata": {},
   "outputs": [],
   "source": [
    "X_=[row[0] for row in corpus]"
   ]
  },
  {
   "cell_type": "code",
   "execution_count": 9,
   "metadata": {},
   "outputs": [],
   "source": [
    "Y_=[row[1] for row in corpus]"
   ]
  },
  {
   "cell_type": "code",
   "execution_count": 10,
   "metadata": {},
   "outputs": [],
   "source": [
    "Y_pred=classify_nb([row[0] for row in corpus],vocabularyN, vocabularyP, PofCs)"
   ]
  },
  {
   "cell_type": "code",
   "execution_count": 11,
   "metadata": {},
   "outputs": [
    {
     "data": {
      "text/plain": [
       "(11914, 11914)"
      ]
     },
     "execution_count": 11,
     "metadata": {},
     "output_type": "execute_result"
    }
   ],
   "source": [
    "len(Y_),len(Y_pred)"
   ]
  },
  {
   "cell_type": "markdown",
   "metadata": {},
   "source": [
    "**Accuracy function :**"
   ]
  },
  {
   "cell_type": "code",
   "execution_count": 12,
   "metadata": {},
   "outputs": [],
   "source": [
    "def accuracypercent(Y_, Y_pred):\n",
    "    assert len(Y_)==len(Y_pred)\n",
    "    ans=0\n",
    "    for i in range(len(Y_)):\n",
    "        if Y_[i]==Y_pred[i]:\n",
    "            ans+=1\n",
    "    return ans/len(Y_)*100"
   ]
  },
  {
   "cell_type": "code",
   "execution_count": 13,
   "metadata": {},
   "outputs": [
    {
     "data": {
      "text/plain": [
       "82.65905657210006"
      ]
     },
     "execution_count": 13,
     "metadata": {},
     "output_type": "execute_result"
    }
   ],
   "source": [
    "accuracypercent(Y_, Y_pred)"
   ]
  },
  {
   "cell_type": "markdown",
   "metadata": {},
   "source": [
    "**Our naive bayes model has a training accuracy of 82%**"
   ]
  },
  {
   "cell_type": "markdown",
   "metadata": {
    "colab_type": "text",
    "id": "slmjGSiuFPZv"
   },
   "source": [
    "### Train-test split\n",
    "After reading the dataset, you must split the dataset into training ($80\\%$) and test data ($20\\%$). Use training data to train the Naïve Bayes classifier and use test data to check the accuracy."
   ]
  },
  {
   "cell_type": "code",
   "execution_count": 14,
   "metadata": {
    "colab": {},
    "colab_type": "code",
    "id": "llmwZsztFvkJ"
   },
   "outputs": [
    {
     "data": {
      "text/plain": [
       "73.89844733529165"
      ]
     },
     "execution_count": 14,
     "metadata": {},
     "output_type": "execute_result"
    }
   ],
   "source": [
    "from sklearn.model_selection import train_test_split\n",
    "X_train, X_test, y_train, y_test = train_test_split(X_, Y_, test_size=0.2)\n",
    "\n",
    "vocabularyN_T, vocabularyP_T, PofCs_T = train_nb([[X_train[i], y_train[i]] for i in range(len(y_train))])\n",
    "\n",
    "y_pred=classify_nb(X_test, vocabularyN_T, vocabularyP_T, PofCs_T)\n",
    "\n",
    "accuracypercent(y_test, y_pred)"
   ]
  },
  {
   "cell_type": "markdown",
   "metadata": {},
   "source": [
    "**Accuracy of our trained naive bayes model is 73%**"
   ]
  },
  {
   "cell_type": "markdown",
   "metadata": {
    "colab_type": "text",
    "id": "k_DDcDPx_zKo"
   },
   "source": [
    "### Comparison (Bonus)\n",
    "Also use `sklearn`'s Naïve Bayes classifier and compare its performance with the classifier you implemented. "
   ]
  },
  {
   "cell_type": "code",
   "execution_count": null,
   "metadata": {},
   "outputs": [],
   "source": []
  },
  {
   "cell_type": "markdown",
   "metadata": {
    "colab_type": "text",
    "id": "vAngbx0yHvNN"
   },
   "source": [
    "Make sure your code is well documented with comments explaining everything done in your algorithm. With this being said, you are free to design your code anyway you like as long as it implements a Naïve Bayes model and is easily understandable. If you digress from the given code template, explain briefly the structure of your code as well."
   ]
  },
  {
   "cell_type": "markdown",
   "metadata": {
    "colab_type": "text",
    "id": "rBrANeu0aILI"
   },
   "source": [
    "# Problem 2: Regularization and bias-variance trade-off\n"
   ]
  },
  {
   "cell_type": "markdown",
   "metadata": {
    "colab_type": "text",
    "id": "WSph6_gW-ln0"
   },
   "source": [
    "### Problem statement\n",
    "In this question we will see how regularization can be used to prevent overfitting of data and then observe the bias-variance tradeoff in a practical setting."
   ]
  },
  {
   "cell_type": "markdown",
   "metadata": {
    "colab_type": "text",
    "id": "fQPYrvfLAnSY"
   },
   "source": [
    "### Dataset generation\n",
    "- Generate 10 data points $f(x)=sin(2\\pi x)$ where $x \\hspace{0.1cm} \\epsilon \\hspace{0.1cm} [0, 1]$ is sampled uniformly.\n",
    "- Add Gaussian noise $N(0, 0.5)$ to the generated data. By generating data in this way, we are capturing a property of many real data sets - namely, that they possess an underlying regularity $f(x)$, which we wish to learn, but that individual observations are corrupted by random noise $N(0,0.5)$.\n",
    "- We will now use this set of 10 data points as the training dataset."
   ]
  },
  {
   "cell_type": "code",
   "execution_count": 4,
   "metadata": {
    "colab": {},
    "colab_type": "code",
    "id": "SZcsltnkJCue"
   },
   "outputs": [],
   "source": [
    "import numpy as np\n",
    "x = np.linspace(0,1,10,dtype=float)\n",
    "y = np.sin(np.pi*2*x)\n",
    "\n",
    "disturbance = np.random.normal(0,0.5,(10,))\n",
    "\n",
    "z = y + disturbance"
   ]
  },
  {
   "cell_type": "code",
   "execution_count": 5,
   "metadata": {},
   "outputs": [
    {
     "data": {
      "text/plain": [
       "array([-0.90486784,  0.18409758,  1.51859535,  0.91220741,  0.42573208,\n",
       "        0.25543762, -1.05495762, -0.93634804, -0.79710234, -0.81418944])"
      ]
     },
     "execution_count": 5,
     "metadata": {},
     "output_type": "execute_result"
    }
   ],
   "source": [
    "z"
   ]
  },
  {
   "cell_type": "markdown",
   "metadata": {
    "colab_type": "text",
    "id": "XjKUq1CjEXQG"
   },
   "source": [
    "### Polynomial curve fitting \n",
    "- Fit 5 polynomial regression models with varying polynomial orders $M = \\{0, 1, 3, 6, 9\\}$ on the training dataset. Use the polynomial function of the form:  $y(x, \\textbf{w})=\\sum^{M}_{j=0}w_jx^j$ and $L2$ loss as the error function: $E(\\textbf{w})= \\frac{1}{2}\\sum^{N}_{n=1}\\{y(x_n, \\textbf{w}) - t_n)\\}^2$, where $t_n$ is the true output for the input $x_n$, and $N$ is the total number of training points.\n",
    "- For each model: $M = \\{0, 1, 3, 6, 9\\}$, plot the graph of the function obtained from fitting the model onto the training dataset along with the training dataset points. \n",
    "- Report the mean squared error on the training dataset and explain its trend with increasing model complexity. Comment on overfitting and underfitting.\n",
    "- For each model: $M = \\{0, 1, 3, 6, 9\\}$, report the coefficients $\\textbf{w}^*$. Explain the trend in the coefficients with increasing model complexity. \n",
    "- The goal here is to achieve good generalization by making\n",
    "accurate predictions for new data, and not the training data. Use the data generation procedure used previously to generate 100 data points but with new choices for the random noise values included in the target values. These 100 data points will now form our validation dataset.\n",
    "- Evaluate each model: $M = \\{0, 1, 3, 6, 9\\}$ on the validation set and report the mean squared error for each model. \n",
    "- Plot the training and validation set mean squared errors for models with $M = \\{0, 1, 3, 6, 9\\}$ on the same graph. Explain the trend in the error values with increasing model complexity."
   ]
  },
  {
   "cell_type": "code",
   "execution_count": 6,
   "metadata": {},
   "outputs": [],
   "source": [
    "import matplotlib.pyplot as plt"
   ]
  },
  {
   "cell_type": "markdown",
   "metadata": {},
   "source": [
    "**We will be using np.polyfit model, which fits a polynomial curve of required degree by minimizing mean square error**"
   ]
  },
  {
   "cell_type": "code",
   "execution_count": 7,
   "metadata": {
    "colab": {},
    "colab_type": "code",
    "id": "dnSZ2jAlMVCL"
   },
   "outputs": [
    {
     "data": {
      "image/png": "[encoded data removed]",
      "text/plain": [
       "<Figure size 432x288 with 1 Axes>"
      ]
     },
     "metadata": {},
     "output_type": "display_data"
    },
    {
     "name": "stdout",
     "output_type": "stream",
     "text": [
      " \n",
      "-0.1211\n",
      "error =  0.7378640067782957\n"
     ]
    }
   ],
   "source": [
    "mymodel0 = np.poly1d(np.polyfit(x, z, 0))\n",
    "\n",
    "\n",
    "xx = np.linspace(0,1,100)\n",
    "plt.figure()\n",
    "plt.scatter(x, z)\n",
    "plt.plot(xx, mymodel0(xx),'r')\n",
    "plt.title(\"model with degree 0\")\n",
    "plt.show()\n",
    "print(mymodel0)\n",
    "print('error = ',0.1*np.sum(np.square(mymodel0(x)-z)))"
   ]
  },
  {
   "cell_type": "code",
   "execution_count": 8,
   "metadata": {},
   "outputs": [
    {
     "data": {
      "image/png": "[encoded data removed]",
      "text/plain": [
       "<Figure size 432x288 with 1 Axes>"
      ]
     },
     "metadata": {},
     "output_type": "display_data"
    },
    {
     "name": "stdout",
     "output_type": "stream",
     "text": [
      " \n",
      "-1.331 x + 0.5443\n",
      "error =  0.5574696254471329\n"
     ]
    }
   ],
   "source": [
    "mymodel1 = np.poly1d(np.polyfit(x, z, 1))\n",
    "\n",
    "\n",
    "xx = np.linspace(0,1,100)\n",
    "plt.figure()\n",
    "plt.scatter(x, z)\n",
    "plt.plot(xx, mymodel1(xx),'r')\n",
    "plt.title(\"model with degree 1\")\n",
    "plt.show()\n",
    "print(mymodel1)\n",
    "print('error = ',0.1*np.sum(np.square(mymodel1(x)-z)))"
   ]
  },
  {
   "cell_type": "code",
   "execution_count": 9,
   "metadata": {},
   "outputs": [
    {
     "data": {
      "image/png": "[encoded data removed]",
      "text/plain": [
       "<Figure size 432x288 with 1 Axes>"
      ]
     },
     "metadata": {},
     "output_type": "display_data"
    },
    {
     "name": "stdout",
     "output_type": "stream",
     "text": [
      "       3         2\n",
      "23.58 x - 39.79 x + 16.51 x - 0.9261\n",
      "error =  0.07688356688428179\n"
     ]
    }
   ],
   "source": [
    "mymodel3 = np.poly1d(np.polyfit(x, z, 3))\n",
    "\n",
    "\n",
    "xx = np.linspace(0,1,100)\n",
    "plt.figure()\n",
    "plt.scatter(x, z)\n",
    "plt.plot(xx, mymodel3(xx),'r')\n",
    "plt.title(\"model with degree 3\")\n",
    "plt.show()\n",
    "print(mymodel3)\n",
    "print('error = ',0.1*np.sum(np.square(mymodel3(x)-z)))"
   ]
  },
  {
   "cell_type": "code",
   "execution_count": 10,
   "metadata": {},
   "outputs": [
    {
     "data": {
      "image/png": "[encoded data removed]",
      "text/plain": [
       "<Figure size 432x288 with 1 Axes>"
      ]
     },
     "metadata": {},
     "output_type": "display_data"
    },
    {
     "name": "stdout",
     "output_type": "stream",
     "text": [
      "       6         5         4         3        2\n",
      "40.69 x - 204.1 x + 327.4 x - 196.7 x + 21.5 x + 11.25 x - 0.9355\n",
      "error =  0.05322486257482831\n"
     ]
    }
   ],
   "source": [
    "mymodel6 = np.poly1d(np.polyfit(x, z, 6))\n",
    "\n",
    "\n",
    "xx = np.linspace(0,1,100)\n",
    "plt.figure()\n",
    "plt.scatter(x, z)\n",
    "plt.plot(xx, mymodel6(xx),'r')\n",
    "plt.title(\"model with degree 6\")\n",
    "plt.show()\n",
    "print(mymodel6)\n",
    "print('error = ',0.1*np.sum(np.square(mymodel6(x)-z)))"
   ]
  },
  {
   "cell_type": "code",
   "execution_count": 11,
   "metadata": {},
   "outputs": [
    {
     "data": {
      "image/png": "[encoded data removed]",
      "text/plain": [
       "<Figure size 432x288 with 1 Axes>"
      ]
     },
     "metadata": {},
     "output_type": "display_data"
    },
    {
     "name": "stdout",
     "output_type": "stream",
     "text": [
      "           9             8             7             6             5\n",
      "6.868e+04 x - 2.942e+05 x + 5.229e+05 x - 4.984e+05 x + 2.749e+05 x\n",
      "              4             3        2\n",
      " - 8.818e+04 x + 1.563e+04 x - 1372 x + 55.89 x - 0.9049\n",
      "error =  9.048135821394672e-21\n"
     ]
    }
   ],
   "source": [
    "mymodel9 = np.poly1d(np.polyfit(x, z, 9))\n",
    "\n",
    "\n",
    "xx = np.linspace(0,1,100)\n",
    "plt.figure()\n",
    "plt.scatter(x, z)\n",
    "plt.plot(xx, mymodel9(xx),'r')\n",
    "plt.title(\"model with degree 9\")\n",
    "plt.show()\n",
    "print(mymodel9)\n",
    "print('error = ',0.1*np.sum(np.square(mymodel9(x)-z)))"
   ]
  },
  {
   "cell_type": "markdown",
   "metadata": {},
   "source": [
    "**For every model above, final polynomial is printed below and also the mean square training error.**"
   ]
  },
  {
   "cell_type": "markdown",
   "metadata": {},
   "source": [
    "**We can observe that as model complexity (degree of polynomial) increase, co-efficients also increases. This is the root cause of using L2 regularization.**"
   ]
  },
  {
   "cell_type": "code",
   "execution_count": 12,
   "metadata": {},
   "outputs": [],
   "source": [
    "x_val = np.linspace(0,1,100,dtype=float)\n",
    "y_val = np.sin(np.pi*2*x_val)\n",
    "\n",
    "disturbance_val = np.random.normal(0,0.5,(100,))\n",
    "\n",
    "z_val = disturbance_val + y_val"
   ]
  },
  {
   "cell_type": "code",
   "execution_count": 13,
   "metadata": {},
   "outputs": [
    {
     "name": "stdout",
     "output_type": "stream",
     "text": [
      "Validation Mean Square Error in case 0f 0-degree poly model is 0.8682633285127421\n",
      "Validation Mean Square Error in case 0f 1-degree poly model is 0.5014581699035078\n",
      "Validation Mean Square Error in case 0f 3-degree poly model is 0.40948482156373167\n",
      "Validation Mean Square Error in case 0f 6-degree poly model is 0.4101434357210043\n",
      "Validation Mean Square Error in case 0f 9-degree poly model is 0.9091918069051443\n"
     ]
    }
   ],
   "source": [
    "print('Validation Mean Square Error in case 0f 0-degree poly model is',0.01*np.sum(np.square(mymodel0(x_val)-z_val)))\n",
    "print('Validation Mean Square Error in case 0f 1-degree poly model is',0.01*np.sum(np.square(mymodel1(x_val)-z_val)))\n",
    "print('Validation Mean Square Error in case 0f 3-degree poly model is',0.01*np.sum(np.square(mymodel3(x_val)-z_val)))\n",
    "print('Validation Mean Square Error in case 0f 6-degree poly model is',0.01*np.sum(np.square(mymodel6(x_val)-z_val)))\n",
    "print('Validation Mean Square Error in case 0f 9-degree poly model is',0.01*np.sum(np.square(mymodel9(x_val)-z_val)))\n"
   ]
  },
  {
   "cell_type": "code",
   "execution_count": 14,
   "metadata": {},
   "outputs": [
    {
     "data": {
      "image/png": "[encoded data removed]",
      "text/plain": [
       "<Figure size 432x288 with 1 Axes>"
      ]
     },
     "metadata": {},
     "output_type": "display_data"
    }
   ],
   "source": [
    "plt.figure()\n",
    "plt.plot((0,1,3,6,9),(0.96, 0.46, 0.11, 0.06, 0),'r--', label = 'train mse')\n",
    "plt.plot((0,1,3,6,9),(0.86, 0.50, 0.40, 0.41, 0.9),'b--', label = 'validation mse')\n",
    "plt.legend()\n",
    "plt.xlabel('degree of polynomial')\n",
    "plt.show()"
   ]
  },
  {
   "cell_type": "markdown",
   "metadata": {},
   "source": [
    "**We can observe that training error decreases as model complexity increases.**  \n",
    "**But because of overfitting to training set, Validation error increases.**  \n",
    "**This is also called as bias-variance trade-off.**"
   ]
  },
  {
   "cell_type": "markdown",
   "metadata": {
    "colab_type": "text",
    "id": "gFM6HWgnACG8"
   },
   "source": [
    "### Regularization\n",
    "\n",
    "We've seen the effects of increasing model complexity on the training error and the validation error above. We will now use L2 regularization to reduce overfitting.\n",
    "\n",
    "- Fit a polynomial regression model of order $M=9$ to the same training dataset as before but now using the regularized error function given by $E^{'}(\\textbf{w})= \\frac{1}{2}\\sum^{N}_{n=1}\\{y(x_n, \\textbf{w}) - t_n)\\}^2 + \\frac{\\lambda}{2}{\\|\\textbf{w}\\|}^2$ where $\\lambda$ is the regularization hyperparameter. Use the following values for $\\lambda$: $\\lambda={0.01, 0.1, 1}$.\n",
    "- Report the coefficients of the model fit above for $\\lambda={0.01, 0.1, 1}$. Explain the trend in the coefficient values with increasing $\\lambda$.\n",
    "- Find the optimal value of the hyperparameter $\\lambda$. \n",
    "- Compare the validation error results of the following two models : polynomial regression model of order $M=9$ without regularization and polynomial regression model of order $M=9$ with regularization hyperparameter as estimated above."
   ]
  },
  {
   "cell_type": "code",
   "execution_count": 15,
   "metadata": {},
   "outputs": [],
   "source": [
    "x_val = np.linspace(0,1,100,dtype=float)\n",
    "y_val = np.sin(np.pi*2*x_val)\n",
    "\n",
    "disturbance_val = np.random.normal(0,0.5,(100,))\n",
    "\n",
    "z_val = disturbance_val + y_val"
   ]
  },
  {
   "cell_type": "code",
   "execution_count": 16,
   "metadata": {},
   "outputs": [],
   "source": [
    "X=np.c_[x,x**2,x**3,x**4,x**5,x**6,x**7,x**8,x**9]\n",
    "X_val=np.c_[x_val,x_val**2,x_val**3,x_val**4,x_val**5,x_val**6,x_val**7,x_val**8,x_val**9]\n",
    "\n",
    "from sklearn import metrics"
   ]
  },
  {
   "cell_type": "markdown",
   "metadata": {},
   "source": [
    "**We'll be using Ridge model in sklearn which uses the same type of regularization asked above.**"
   ]
  },
  {
   "cell_type": "code",
   "execution_count": 17,
   "metadata": {},
   "outputs": [
    {
     "name": "stdout",
     "output_type": "stream",
     "text": [
      "Train Error:  0.17770018835143003\n",
      "Validation Error:  0.3825814309844241\n",
      "coefficients for lambda= 0.01 are [ 6.27552498 -7.85078643 -4.43924703 -0.23306504  2.04314365  2.56695559\n",
      "  1.91089371  0.55123404 -1.18211515]\n"
     ]
    }
   ],
   "source": [
    "from sklearn import linear_model\n",
    "alpha=0.005\n",
    "reg = linear_model.Ridge(alpha=alpha)\n",
    "\n",
    "reg.fit(X,z)\n",
    "\n",
    "coef = reg.coef_\n",
    "intercept = reg.intercept_\n",
    "\n",
    "z_pred = reg.predict(X_val)\n",
    "print('Train Error: ',metrics.mean_squared_error(z, reg.predict(X)))\n",
    "print('Validation Error: ',metrics.mean_squared_error(z_val, z_pred))\n",
    "\n",
    "print('coefficients for lambda=',2*alpha,'are',coef)"
   ]
  },
  {
   "cell_type": "code",
   "execution_count": 18,
   "metadata": {},
   "outputs": [
    {
     "data": {
      "image/png": "[encoded data removed]",
      "text/plain": [
       "<Figure size 432x288 with 1 Axes>"
      ]
     },
     "metadata": {},
     "output_type": "display_data"
    }
   ],
   "source": [
    "plt.figure()\n",
    "plt.scatter(x, z)\n",
    "plt.plot(x_val, z_pred,'r')\n",
    "plt.title(\"lambda = 0.01\")\n",
    "plt.show()\n",
    "#print('error = ',0.1*np.sum(np.square(mymodel9(x)-z)))"
   ]
  },
  {
   "cell_type": "code",
   "execution_count": 19,
   "metadata": {},
   "outputs": [
    {
     "name": "stdout",
     "output_type": "stream",
     "text": [
      "Train Error:  0.33739885916587514\n",
      "Validation Error:  0.4168672445410405\n",
      "coefficients for lambda= 0.1 are [ 1.67633971 -1.95754304 -1.8267925  -1.03111598 -0.30518263  0.22315238\n",
      "  0.57153532  0.78345902  0.8988139 ]\n"
     ]
    }
   ],
   "source": [
    "from sklearn import linear_model\n",
    "alpha=0.05\n",
    "reg = linear_model.Ridge(alpha=alpha)\n",
    "\n",
    "reg.fit(X,z)\n",
    "\n",
    "coef = reg.coef_\n",
    "intercept = reg.intercept_\n",
    "\n",
    "z_pred = reg.predict(X_val)\n",
    "print('Train Error: ',metrics.mean_squared_error(z, reg.predict(X)))\n",
    "print('Validation Error: ',metrics.mean_squared_error(z_val, z_pred))\n",
    "\n",
    "print('coefficients for lambda=',2*alpha,'are',coef)"
   ]
  },
  {
   "cell_type": "code",
   "execution_count": 20,
   "metadata": {},
   "outputs": [
    {
     "data": {
      "image/png": "[encoded data removed]",
      "text/plain": [
       "<Figure size 432x288 with 1 Axes>"
      ]
     },
     "metadata": {},
     "output_type": "display_data"
    }
   ],
   "source": [
    "plt.figure()\n",
    "plt.scatter(x, z)\n",
    "plt.plot(x_val, z_pred,'r')\n",
    "plt.title(\"lambda = 0.1\")\n",
    "plt.show()"
   ]
  },
  {
   "cell_type": "code",
   "execution_count": 21,
   "metadata": {},
   "outputs": [
    {
     "name": "stdout",
     "output_type": "stream",
     "text": [
      "Train Error:  0.47662909718663177\n",
      "Validation Error:  0.49485897631275333\n",
      "coefficients for lambda= 1.0 are [-0.07792055 -0.53456706 -0.47975866 -0.32475463 -0.17456478 -0.0514317\n",
      "  0.04432217  0.1174119   0.17291592]\n"
     ]
    }
   ],
   "source": [
    "from sklearn import linear_model\n",
    "alpha=0.5\n",
    "reg = linear_model.Ridge(alpha=alpha)\n",
    "\n",
    "reg.fit(X,z)\n",
    "\n",
    "coef = reg.coef_\n",
    "intercept = reg.intercept_\n",
    "\n",
    "z_pred = reg.predict(X_val)\n",
    "print('Train Error: ',metrics.mean_squared_error(z, reg.predict(X)))\n",
    "print('Validation Error: ',metrics.mean_squared_error(z_val, z_pred))\n",
    "\n",
    "print('coefficients for lambda=',2*alpha,'are',coef)"
   ]
  },
  {
   "cell_type": "code",
   "execution_count": 22,
   "metadata": {},
   "outputs": [
    {
     "data": {
      "image/png": "[encoded data removed]",
      "text/plain": [
       "<Figure size 432x288 with 1 Axes>"
      ]
     },
     "metadata": {},
     "output_type": "display_data"
    }
   ],
   "source": [
    "plt.figure()\n",
    "plt.scatter(x, z)\n",
    "plt.plot(x_val, z_pred,'r')\n",
    "plt.title(\"lambda = 1\")\n",
    "plt.show()"
   ]
  },
  {
   "cell_type": "markdown",
   "metadata": {},
   "source": [
    "**Based on validation errors, we can find that the optimal value of hyperparameter $\\lambda$ is 0.01**  \n",
    "**Due to regularization, validation error reduced enormously from 0.9 to 0.38 (for M = 9). Thus we prevented overfitting to training dataset.**"
   ]
  },
  {
   "cell_type": "markdown",
   "metadata": {
    "colab_type": "text",
    "id": "9BwLU1odIi45"
   },
   "source": [
    "### Bias-variance trade-off:\n",
    "\n",
    "In class you have seen that the expected prediction error for any model can be decomposed as the sum of $bias^2, variance$ and $irreducible\\,noise$. We will now observe the bias-variance trade-off for a polynomial regression model of order $M=9$ with varying regularization hyperparameter.\n",
    "- Generate $50$ datasets, each containing $10$ points, independently, from the curve $f(x)=sin(2\\pi x)$. Add gaussian noise $N(0,0.5)$ to each data point.\n",
    "- Fit a polynomial regression model of order $M=9$ to each training dataset by minimizing the regularized error function $E^{'}(\\textbf{w})$ with $\\lambda=1$.\n",
    "- Plot the following:\n",
    "  - function obtained by training the model on each of the 50 datasets in the same figure.\n",
    "  - The corresponding average of the 50 fits and the sinusoidal function from which the datasets were generated in the same figure.\n",
    "- Repeat this exercise for two more $\\lambda$ values: $\\lambda$ = 0.1, 10.\n",
    "- Based on the plots obtained, explain the trend in the bias and variance values with increasing model complexity.\n",
    "- Bonus (optional and will not be graded) : \n",
    "  - Plot the $bias^2$, $variance$  and $bias^2 + variance$ against $\\lambda$.\n",
    "  - Also plot the average test error on a test data size of 1000 points (generated in a similiar way as the 50 training datasets, but independently) against $\\lambda$ on the same figure.\n",
    "  - For your reference: \n",
    "$$\n",
    "Bias^2= (E_{D}[\\hat f(x)] - f(x))^2\n",
    "\\\\\n",
    "Variance = E_{D}[(\\hat f(x) - E_{D}[\\hat f(x)])^2]\n",
    "$$\n",
    "Here $\\hat f$ is the trained model and $D$ is the set of all datasets. Use the $50$ training datasets to compute the empirical estimations."
   ]
  },
  {
   "cell_type": "code",
   "execution_count": 23,
   "metadata": {
    "colab": {},
    "colab_type": "code",
    "id": "YFYqiOEZNMuv"
   },
   "outputs": [],
   "source": [
    "import matplotlib.pyplot as plt\n",
    "import numpy as np\n",
    "\n",
    "datasets= []\n",
    "\n",
    "for i in range(50):\n",
    "    x = np.linspace(0,1,10,dtype=float)\n",
    "    y = np.sin(np.pi*2*x)\n",
    "\n",
    "    disturbance = np.random.normal(0,0.5,(10,))\n",
    "\n",
    "    z = y + disturbance\n",
    "    datasets.append(z)\n",
    "    "
   ]
  },
  {
   "cell_type": "code",
   "execution_count": 24,
   "metadata": {},
   "outputs": [
    {
     "data": {
      "image/png": "[encoded data removed]",
      "text/plain": [
       "<Figure size 432x288 with 1 Axes>"
      ]
     },
     "metadata": {},
     "output_type": "display_data"
    }
   ],
   "source": [
    "from sklearn.preprocessing import PolynomialFeatures \n",
    "from sklearn import linear_model\n",
    "models = []\n",
    "poly = PolynomialFeatures(degree = 9) \n",
    "#X_poly = poly.fit_transform(X_train)\n",
    "alpha = 0.5\n",
    "for z in datasets:\n",
    "    x = np.linspace(0,1,10,dtype=float)\n",
    "    x = x.reshape(10,1)\n",
    "    X = poly.fit_transform(x)\n",
    "    reg = linear_model.Ridge(alpha=alpha)\n",
    "    reg.fit(X, z)\n",
    "    xx = np.linspace(0,1,100)\n",
    "    xx = xx.reshape(100,1)\n",
    "    models.append(reg)\n",
    "    plt.plot(xx, reg.predict(poly.fit_transform(xx)),'r')\n",
    "plt.show()"
   ]
  },
  {
   "cell_type": "code",
   "execution_count": 25,
   "metadata": {},
   "outputs": [
    {
     "data": {
      "text/plain": [
       "<matplotlib.legend.Legend at 0x21719a4dda0>"
      ]
     },
     "execution_count": 25,
     "metadata": {},
     "output_type": "execute_result"
    },
    {
     "data": {
      "image/png": "[encoded data removed]",
      "text/plain": [
       "<Figure size 432x288 with 1 Axes>"
      ]
     },
     "metadata": {},
     "output_type": "display_data"
    }
   ],
   "source": [
    "xx = np.linspace(0,1,100)\n",
    "xx = xx.reshape(100,1)\n",
    "zz = np.zeros((100,))\n",
    "for model in models:\n",
    "    yy=model.predict(poly.fit_transform(xx))\n",
    "    zz = zz + yy\n",
    "zz = zz/50\n",
    "plt.figure()\n",
    "plt.plot(xx, zz,'r',label='ridge model with $\\lambda$=1')\n",
    "plt.plot(xx, np.sin(2*np.pi*xx), 'b', label='sin curve')\n",
    "plt.legend()\n"
   ]
  },
  {
   "cell_type": "code",
   "execution_count": 26,
   "metadata": {},
   "outputs": [
    {
     "data": {
      "image/png": "[encoded data removed]",
      "text/plain": [
       "<Figure size 432x288 with 1 Axes>"
      ]
     },
     "metadata": {},
     "output_type": "display_data"
    },
    {
     "data": {
      "image/png": "[encoded data removed]",
      "text/plain": [
       "<Figure size 432x288 with 1 Axes>"
      ]
     },
     "metadata": {},
     "output_type": "display_data"
    }
   ],
   "source": [
    "from sklearn.preprocessing import PolynomialFeatures \n",
    "from sklearn import linear_model\n",
    "models = []\n",
    "poly = PolynomialFeatures(degree = 9) \n",
    "#X_poly = poly.fit_transform(X_train)\n",
    "alpha = 0.05\n",
    "for z in datasets:\n",
    "    x = np.linspace(0,1,10,dtype=float)\n",
    "    x = x.reshape(10,1)\n",
    "    X = poly.fit_transform(x)\n",
    "    reg = linear_model.Ridge(alpha=alpha)\n",
    "    reg.fit(X, z)\n",
    "    xx = np.linspace(0,1,100)\n",
    "    xx = xx.reshape(100,1)\n",
    "    models.append(reg)\n",
    "    plt.plot(xx, reg.predict(poly.fit_transform(xx)),'r')\n",
    "plt.show()\n",
    "\n",
    "xx = np.linspace(0,1,100)\n",
    "xx = xx.reshape(100,1)\n",
    "zz = np.zeros((100,))\n",
    "for model in models:\n",
    "    yy=model.predict(poly.fit_transform(xx))\n",
    "    zz = zz + yy\n",
    "zz = zz/50\n",
    "plt.figure()\n",
    "plt.plot(xx, zz,'r',label='ridge model with $\\lambda$=0.1')\n",
    "plt.plot(xx, np.sin(2*np.pi*xx), 'b', label='sin curve')\n",
    "plt.legend()\n",
    "plt.show()"
   ]
  },
  {
   "cell_type": "code",
   "execution_count": 27,
   "metadata": {},
   "outputs": [
    {
     "data": {
      "image/png": "[encoded data removed]",
      "text/plain": [
       "<Figure size 432x288 with 1 Axes>"
      ]
     },
     "metadata": {},
     "output_type": "display_data"
    },
    {
     "data": {
      "image/png": "[encoded data removed]",
      "text/plain": [
       "<Figure size 432x288 with 1 Axes>"
      ]
     },
     "metadata": {},
     "output_type": "display_data"
    }
   ],
   "source": [
    "from sklearn.preprocessing import PolynomialFeatures \n",
    "from sklearn import linear_model\n",
    "models = []\n",
    "poly = PolynomialFeatures(degree = 9) \n",
    "#X_poly = poly.fit_transform(X_train)\n",
    "alpha = 5\n",
    "for z in datasets:\n",
    "    x = np.linspace(0,1,10,dtype=float)\n",
    "    x = x.reshape(10,1)\n",
    "    X = poly.fit_transform(x)\n",
    "    reg = linear_model.Ridge(alpha=alpha)\n",
    "    reg.fit(X, z)\n",
    "    xx = np.linspace(0,1,100)\n",
    "    xx = xx.reshape(100,1)\n",
    "    models.append(reg)\n",
    "    plt.plot(xx, reg.predict(poly.fit_transform(xx)),'r')\n",
    "plt.show()\n",
    "\n",
    "xx = np.linspace(0,1,100)\n",
    "xx = xx.reshape(100,1)\n",
    "zz = np.zeros((100,))\n",
    "for model in models:\n",
    "    yy=model.predict(poly.fit_transform(xx))\n",
    "    zz = zz + yy\n",
    "zz = zz/50\n",
    "plt.figure()\n",
    "plt.plot(xx, zz,'r',label='ridge model with $\\lambda$=10')\n",
    "plt.plot(xx, np.sin(2*np.pi*xx), 'b', label='sin curve')\n",
    "plt.legend()\n",
    "plt.show()"
   ]
  },
  {
   "cell_type": "markdown",
   "metadata": {},
   "source": [
    "**If the model we are trying to fit is of low complexity, it's high bias.(Underfit).  \n",
    "If the model we are trying to fit is of high complexity, it's high variance (Overfit).**\n",
    "\n",
    "**Bias-Variance Tradeoff:  \n",
    "    Whenever we try to decrease either of bias or variance, the other one tends to increase. It's like a trade-off.**"
   ]
  },
  {
   "cell_type": "markdown",
   "metadata": {
    "colab_type": "text",
    "id": "0akOo4P-EjhV"
   },
   "source": [
    "# Problem 3: Logistic Regression"
   ]
  },
  {
   "cell_type": "markdown",
   "metadata": {
    "colab_type": "text",
    "id": "WL1ZH-z8YwuE"
   },
   "source": [
    "## Binary Logistic Regression\n",
    "\n",
    "Logistic regression is a classification algorithm used to assign observations to a discrete set of classes. Unlike linear regression which outputs continuous number values, logistic regression transforms its output using the logistic **sigmoid function** $h_ \\theta (\\cdot)$ to return a probability value which can then be mapped to two or more discrete classes. $$ h_ \\theta (x) =  \\frac{\\mathrm{1} }{\\mathrm{1} + e^{- \\theta^Tx} }  $$ \n",
    "\n",
    "<br>here, the vector $\\theta$ represents the weights and the vector $x$ represents the given inputs.\n"
   ]
  },
  {
   "cell_type": "markdown",
   "metadata": {
    "colab_type": "text",
    "id": "zxGXZkGXbnmJ"
   },
   "source": [
    "## Problem 3, Part A: Dataset A\n"
   ]
  },
  {
   "cell_type": "markdown",
   "metadata": {
    "colab_type": "text",
    "id": "-ndfkwa2WD58"
   },
   "source": [
    "\n",
    "Use Dataset A (``data_prob3_parta.csv``) for this part of the question. The given CSV file has three columns: column 1 is the first input feature, column 2 is the second input feature and column 3 is the output label. Split the dataset into training data (75%) and testing data (25%) randomly.\n"
   ]
  },
  {
   "cell_type": "code",
   "execution_count": 98,
   "metadata": {
    "colab": {},
    "colab_type": "code",
    "id": "fiGqCdCYNfwN"
   },
   "outputs": [],
   "source": [
    "import pandas as pd\n",
    "import numpy as np\n",
    "dataA = pd.read_csv('./data_prob3_parta.csv')"
   ]
  },
  {
   "cell_type": "code",
   "execution_count": 99,
   "metadata": {},
   "outputs": [
    {
     "data": {
      "text/html": [
       "<div>\n",
       "<style scoped>\n",
       "    .dataframe tbody tr th:only-of-type {\n",
       "        vertical-align: middle;\n",
       "    }\n",
       "\n",
       "    .dataframe tbody tr th {\n",
       "        vertical-align: top;\n",
       "    }\n",
       "\n",
       "    .dataframe thead th {\n",
       "        text-align: right;\n",
       "    }\n",
       "</style>\n",
       "<table border=\"1\" class=\"dataframe\">\n",
       "  <thead>\n",
       "    <tr style=\"text-align: right;\">\n",
       "      <th></th>\n",
       "      <th>Input feature 1</th>\n",
       "      <th>Input feature 2</th>\n",
       "      <th>Output label</th>\n",
       "    </tr>\n",
       "  </thead>\n",
       "  <tbody>\n",
       "    <tr>\n",
       "      <th>0</th>\n",
       "      <td>25.30</td>\n",
       "      <td>20.6</td>\n",
       "      <td>1.0</td>\n",
       "    </tr>\n",
       "    <tr>\n",
       "      <th>1</th>\n",
       "      <td>8.41</td>\n",
       "      <td>53.0</td>\n",
       "      <td>0.0</td>\n",
       "    </tr>\n",
       "    <tr>\n",
       "      <th>2</th>\n",
       "      <td>15.80</td>\n",
       "      <td>61.3</td>\n",
       "      <td>0.0</td>\n",
       "    </tr>\n",
       "    <tr>\n",
       "      <th>3</th>\n",
       "      <td>32.00</td>\n",
       "      <td>31.7</td>\n",
       "      <td>1.0</td>\n",
       "    </tr>\n",
       "    <tr>\n",
       "      <th>4</th>\n",
       "      <td>17.60</td>\n",
       "      <td>80.0</td>\n",
       "      <td>0.0</td>\n",
       "    </tr>\n",
       "  </tbody>\n",
       "</table>\n",
       "</div>"
      ],
      "text/plain": [
       "   Input feature 1  Input feature 2  Output label\n",
       "0            25.30             20.6           1.0\n",
       "1             8.41             53.0           0.0\n",
       "2            15.80             61.3           0.0\n",
       "3            32.00             31.7           1.0\n",
       "4            17.60             80.0           0.0"
      ]
     },
     "execution_count": 99,
     "metadata": {},
     "output_type": "execute_result"
    }
   ],
   "source": [
    "dataA.head()"
   ]
  },
  {
   "cell_type": "code",
   "execution_count": 100,
   "metadata": {},
   "outputs": [],
   "source": [
    "y = dataA['Output label']\n",
    "X= dataA.drop(['Output label'],axis=1)"
   ]
  },
  {
   "cell_type": "code",
   "execution_count": 101,
   "metadata": {},
   "outputs": [],
   "source": [
    "from sklearn.model_selection import train_test_split\n",
    "X_train, X_test, y_train, y_test = train_test_split(X, y, test_size=0.25)"
   ]
  },
  {
   "cell_type": "markdown",
   "metadata": {
    "colab_type": "text",
    "id": "VmDzqj1JcUXJ"
   },
   "source": [
    "Visualize the training data with a scatter plot (input feature 1 on the X axis, input feature 2 on the Y axis and color the points according to their labels)."
   ]
  },
  {
   "cell_type": "code",
   "execution_count": 102,
   "metadata": {},
   "outputs": [
    {
     "data": {
      "text/plain": [
       "(1125, 2)"
      ]
     },
     "execution_count": 102,
     "metadata": {},
     "output_type": "execute_result"
    }
   ],
   "source": [
    "X_train.shape"
   ]
  },
  {
   "cell_type": "code",
   "execution_count": 103,
   "metadata": {
    "colab": {},
    "colab_type": "code",
    "id": "khVm1XXAcUgX"
   },
   "outputs": [
    {
     "data": {
      "image/png": "[encoded data removed]",
      "text/plain": [
       "<Figure size 432x288 with 1 Axes>"
      ]
     },
     "metadata": {},
     "output_type": "display_data"
    }
   ],
   "source": [
    "plt.figure()\n",
    "cdict={0:'red', 1:'blue'}\n",
    "for i in range(2):\n",
    "    ix= (y_train==i)\n",
    "    plt.scatter(X_train[ix]['Input feature 1'], X_train[ix]['Input feature 2'],c='red' if i==0 else 'blue', label = i)\n",
    "plt.legend()\n",
    "plt.show()\n"
   ]
  },
  {
   "cell_type": "markdown",
   "metadata": {
    "colab_type": "text",
    "id": "HeFBBGBIcUo0"
   },
   "source": [
    "Build the logistic regression model using the training data. \n",
    "\n",
    "The scikit library can be used to build the model. Bonus marks will be awarded if the model is built from scratch without using any external libraries. If you are writing your own implementation, try to keep number of features and number of classes as variables for next parts."
   ]
  },
  {
   "cell_type": "code",
   "execution_count": 104,
   "metadata": {
    "colab": {},
    "colab_type": "code",
    "id": "Tf2Fu0sccUw_"
   },
   "outputs": [],
   "source": [
    "from sklearn.linear_model import LogisticRegression\n",
    "from sklearn import metrics\n",
    "\n",
    "logistic_regression= LogisticRegression()\n",
    "logistic_regression.fit(X_train,y_train)\n",
    "y_pred=logistic_regression.predict(X_test)\n",
    "\n"
   ]
  },
  {
   "cell_type": "code",
   "execution_count": 105,
   "metadata": {},
   "outputs": [
    {
     "data": {
      "text/plain": [
       "0.968"
      ]
     },
     "execution_count": 105,
     "metadata": {},
     "output_type": "execute_result"
    }
   ],
   "source": [
    "logistic_regression.score(X,y)"
   ]
  },
  {
   "cell_type": "markdown",
   "metadata": {
    "colab_type": "text",
    "id": "vvsbHz1kiv_Q"
   },
   "source": [
    "Print the final weights."
   ]
  },
  {
   "cell_type": "code",
   "execution_count": 106,
   "metadata": {},
   "outputs": [
    {
     "data": {
      "text/plain": [
       "0.6227455129957964"
      ]
     },
     "execution_count": 106,
     "metadata": {},
     "output_type": "execute_result"
    }
   ],
   "source": [
    "intercept = logistic_regression.intercept_[0];intercept"
   ]
  },
  {
   "cell_type": "code",
   "execution_count": 107,
   "metadata": {
    "colab": {},
    "colab_type": "code",
    "id": "0KUYqTxbiv_c"
   },
   "outputs": [
    {
     "data": {
      "text/plain": [
       "array([ 0.18925304, -0.08984099])"
      ]
     },
     "execution_count": 107,
     "metadata": {},
     "output_type": "execute_result"
    }
   ],
   "source": [
    "coef = logistic_regression.coef_[0]; coef"
   ]
  },
  {
   "cell_type": "markdown",
   "metadata": {
    "colab_type": "text",
    "id": "7FlYHEoOcU4l"
   },
   "source": [
    "Print the final accuracy on test data."
   ]
  },
  {
   "cell_type": "code",
   "execution_count": 108,
   "metadata": {
    "colab": {},
    "colab_type": "code",
    "id": "L_xid_OfcVAq"
   },
   "outputs": [
    {
     "name": "stdout",
     "output_type": "stream",
     "text": [
      "Accuracy:  0.96\n"
     ]
    }
   ],
   "source": [
    "print('Accuracy: ',metrics.accuracy_score(y_test, y_pred))"
   ]
  },
  {
   "cell_type": "markdown",
   "metadata": {
    "colab_type": "text",
    "id": "bVPSgR9fcVKR"
   },
   "source": [
    "Plot the scatter plot on test data. On top of this scatter plot, plot the decision boundaries."
   ]
  },
  {
   "cell_type": "code",
   "execution_count": 117,
   "metadata": {
    "colab": {},
    "colab_type": "code",
    "id": "FcjT9KBbcVSG"
   },
   "outputs": [
    {
     "data": {
      "image/png": "[encoded data removed]",
      "text/plain": [
       "<Figure size 432x288 with 1 Axes>"
      ]
     },
     "metadata": {},
     "output_type": "display_data"
    }
   ],
   "source": [
    "plt.figure()\n",
    "cdict={0:'red', 1:'blue'}\n",
    "for i in range(2):\n",
    "    ix= (y_test==i)\n",
    "    plt.scatter(X_test[ix]['Input feature 1'], X_test[ix]['Input feature 2'],c='red' if i==0 else 'blue', label = i)\n",
    "    x1 = np.linspace(5,40,100)\n",
    "ax = plt.gca()\n",
    "ax.autoscale(False)\n",
    "x_vals = np.array(ax.get_xlim())\n",
    "y_vals = -(x_vals * coef[0] +intercept)/coef[1]\n",
    "plt.plot(x_vals, y_vals, '--', c=\"green\")\n",
    "\n",
    "plt.legend()\n",
    "plt.show()\n"
   ]
  },
  {
   "cell_type": "code",
   "execution_count": 109,
   "metadata": {},
   "outputs": [
    {
     "data": {
      "text/plain": [
       "array([ 7.3584941 , 53.46492417])"
      ]
     },
     "execution_count": 109,
     "metadata": {},
     "output_type": "execute_result"
    }
   ],
   "source": [
    "x_vals"
   ]
  },
  {
   "cell_type": "markdown",
   "metadata": {
    "colab_type": "text",
    "id": "HCAFmjmFd2U0"
   },
   "source": [
    "## Problem 3, Part B: Dataset B\n"
   ]
  },
  {
   "cell_type": "markdown",
   "metadata": {
    "colab_type": "text",
    "id": "ZA_bKTy8eEgR"
   },
   "source": [
    "\n",
    "Use Dataset B (``data_prob3_partb.csv``) for this part of the question. The given CSV file has three columns: column 1 is the first input feature, column 2 is the second input feature and column 3 is the output label. Split the dataset into training data (75%) and testing data (25%) randomly.\n"
   ]
  },
  {
   "cell_type": "code",
   "execution_count": 118,
   "metadata": {
    "colab": {},
    "colab_type": "code",
    "id": "W-yUXlVZeEgn"
   },
   "outputs": [],
   "source": [
    "import pandas as pd\n",
    "import numpy as np\n",
    "dataB = pd.read_csv('./data_prob3_partb.csv')"
   ]
  },
  {
   "cell_type": "code",
   "execution_count": 119,
   "metadata": {},
   "outputs": [
    {
     "data": {
      "text/html": [
       "<div>\n",
       "<style scoped>\n",
       "    .dataframe tbody tr th:only-of-type {\n",
       "        vertical-align: middle;\n",
       "    }\n",
       "\n",
       "    .dataframe tbody tr th {\n",
       "        vertical-align: top;\n",
       "    }\n",
       "\n",
       "    .dataframe thead th {\n",
       "        text-align: right;\n",
       "    }\n",
       "</style>\n",
       "<table border=\"1\" class=\"dataframe\">\n",
       "  <thead>\n",
       "    <tr style=\"text-align: right;\">\n",
       "      <th></th>\n",
       "      <th>Input feature 1</th>\n",
       "      <th>Input feature 2</th>\n",
       "      <th>Output label</th>\n",
       "    </tr>\n",
       "  </thead>\n",
       "  <tbody>\n",
       "    <tr>\n",
       "      <th>0</th>\n",
       "      <td>0.95800</td>\n",
       "      <td>-0.575</td>\n",
       "      <td>1.0</td>\n",
       "    </tr>\n",
       "    <tr>\n",
       "      <th>1</th>\n",
       "      <td>0.00799</td>\n",
       "      <td>0.140</td>\n",
       "      <td>1.0</td>\n",
       "    </tr>\n",
       "    <tr>\n",
       "      <th>2</th>\n",
       "      <td>1.38000</td>\n",
       "      <td>-0.551</td>\n",
       "      <td>1.0</td>\n",
       "    </tr>\n",
       "    <tr>\n",
       "      <th>3</th>\n",
       "      <td>-0.36300</td>\n",
       "      <td>0.960</td>\n",
       "      <td>0.0</td>\n",
       "    </tr>\n",
       "    <tr>\n",
       "      <th>4</th>\n",
       "      <td>0.46000</td>\n",
       "      <td>0.701</td>\n",
       "      <td>0.0</td>\n",
       "    </tr>\n",
       "  </tbody>\n",
       "</table>\n",
       "</div>"
      ],
      "text/plain": [
       "   Input feature 1  Input feature 2  Output label\n",
       "0          0.95800           -0.575           1.0\n",
       "1          0.00799            0.140           1.0\n",
       "2          1.38000           -0.551           1.0\n",
       "3         -0.36300            0.960           0.0\n",
       "4          0.46000            0.701           0.0"
      ]
     },
     "execution_count": 119,
     "metadata": {},
     "output_type": "execute_result"
    }
   ],
   "source": [
    "dataB.head()"
   ]
  },
  {
   "cell_type": "code",
   "execution_count": 120,
   "metadata": {},
   "outputs": [],
   "source": [
    "y = dataB['Output label']\n",
    "X= dataB.drop(['Output label'],axis=1)"
   ]
  },
  {
   "cell_type": "code",
   "execution_count": 121,
   "metadata": {},
   "outputs": [],
   "source": [
    "from sklearn.model_selection import train_test_split\n",
    "X_train, X_test, y_train, y_test = train_test_split(X, y, test_size=0.25)"
   ]
  },
  {
   "cell_type": "markdown",
   "metadata": {
    "colab_type": "text",
    "id": "H3ulzUFCeEhU"
   },
   "source": [
    "Visualize the training data with a scatter plot (input feature 1 on the X axis, input feature 2 on the Y axis and color the points according to their labels)."
   ]
  },
  {
   "cell_type": "code",
   "execution_count": 122,
   "metadata": {},
   "outputs": [
    {
     "data": {
      "text/plain": [
       "(1125, 2)"
      ]
     },
     "execution_count": 122,
     "metadata": {},
     "output_type": "execute_result"
    }
   ],
   "source": [
    "X_train.shape"
   ]
  },
  {
   "cell_type": "code",
   "execution_count": 123,
   "metadata": {
    "colab": {},
    "colab_type": "code",
    "id": "khVm1XXAcUgX"
   },
   "outputs": [
    {
     "data": {
      "image/png": "[encoded data removed]",
      "text/plain": [
       "<Figure size 432x288 with 1 Axes>"
      ]
     },
     "metadata": {},
     "output_type": "display_data"
    }
   ],
   "source": [
    "plt.figure()\n",
    "cdict={0:'red', 1:'blue'}\n",
    "for i in range(2):\n",
    "    ix= (y_train==i)\n",
    "    plt.scatter(X_train[ix]['Input feature 1'], X_train[ix]['Input feature 2'],c='red' if i==0 else 'blue', label = i)\n",
    "plt.legend()\n",
    "plt.show()\n"
   ]
  },
  {
   "cell_type": "markdown",
   "metadata": {
    "colab_type": "text",
    "id": "HeFBBGBIcUo0"
   },
   "source": [
    "Build the logistic regression model using the training data. \n",
    "\n",
    "The scikit library can be used to build the model. Bonus marks will be awarded if the model is built from scratch without using any external libraries. If you are writing your own implementation, try to keep number of features and number of classes as variables for next parts."
   ]
  },
  {
   "cell_type": "code",
   "execution_count": 124,
   "metadata": {
    "colab": {},
    "colab_type": "code",
    "id": "Tf2Fu0sccUw_"
   },
   "outputs": [],
   "source": [
    "from sklearn.linear_model import LogisticRegression\n",
    "from sklearn import metrics\n",
    "\n",
    "logistic_regression= LogisticRegression()\n",
    "logistic_regression.fit(X_train,y_train)\n",
    "y_pred=logistic_regression.predict(X_test)\n",
    "\n"
   ]
  },
  {
   "cell_type": "code",
   "execution_count": 125,
   "metadata": {},
   "outputs": [
    {
     "data": {
      "text/plain": [
       "0.8753333333333333"
      ]
     },
     "execution_count": 125,
     "metadata": {},
     "output_type": "execute_result"
    }
   ],
   "source": [
    "logistic_regression.score(X,y)"
   ]
  },
  {
   "cell_type": "markdown",
   "metadata": {
    "colab_type": "text",
    "id": "vvsbHz1kiv_Q"
   },
   "source": [
    "Print the final weights."
   ]
  },
  {
   "cell_type": "code",
   "execution_count": 126,
   "metadata": {},
   "outputs": [
    {
     "data": {
      "text/plain": [
       "0.48076684579389733"
      ]
     },
     "execution_count": 126,
     "metadata": {},
     "output_type": "execute_result"
    }
   ],
   "source": [
    "intercept = logistic_regression.intercept_[0];intercept"
   ]
  },
  {
   "cell_type": "code",
   "execution_count": 127,
   "metadata": {
    "colab": {},
    "colab_type": "code",
    "id": "0KUYqTxbiv_c"
   },
   "outputs": [
    {
     "data": {
      "text/plain": [
       "array([ 1.25099661, -4.51647349])"
      ]
     },
     "execution_count": 127,
     "metadata": {},
     "output_type": "execute_result"
    }
   ],
   "source": [
    "coef = logistic_regression.coef_[0]; coef"
   ]
  },
  {
   "cell_type": "markdown",
   "metadata": {
    "colab_type": "text",
    "id": "7FlYHEoOcU4l"
   },
   "source": [
    "Print the final accuracy on test data."
   ]
  },
  {
   "cell_type": "code",
   "execution_count": 128,
   "metadata": {
    "colab": {},
    "colab_type": "code",
    "id": "L_xid_OfcVAq"
   },
   "outputs": [
    {
     "name": "stdout",
     "output_type": "stream",
     "text": [
      "Accuracy:  0.8666666666666667\n"
     ]
    }
   ],
   "source": [
    "print('Accuracy: ',metrics.accuracy_score(y_test, y_pred))"
   ]
  },
  {
   "cell_type": "markdown",
   "metadata": {
    "colab_type": "text",
    "id": "bVPSgR9fcVKR"
   },
   "source": [
    "Plot the scatter plot on test data. On top of this scatter plot, plot the decision boundaries."
   ]
  },
  {
   "cell_type": "code",
   "execution_count": 129,
   "metadata": {
    "colab": {},
    "colab_type": "code",
    "id": "FcjT9KBbcVSG"
   },
   "outputs": [
    {
     "data": {
      "image/png": "[encoded data removed]",
      "text/plain": [
       "<Figure size 432x288 with 1 Axes>"
      ]
     },
     "metadata": {},
     "output_type": "display_data"
    }
   ],
   "source": [
    "plt.figure()\n",
    "cdict={0:'red', 1:'blue'}\n",
    "for i in range(2):\n",
    "    ix= (y_test==i)\n",
    "    plt.scatter(X_test[ix]['Input feature 1'], X_test[ix]['Input feature 2'],c='red' if i==0 else 'blue', label = i)\n",
    "    x1 = np.linspace(5,40,100)\n",
    "ax = plt.gca()\n",
    "ax.autoscale(False)\n",
    "x_vals = np.array(ax.get_xlim())\n",
    "y_vals = -(x_vals * coef[0] +intercept)/coef[1]\n",
    "plt.plot(x_vals, y_vals, '--', c=\"green\")\n",
    "\n",
    "plt.legend()\n",
    "plt.show()\n"
   ]
  },
  {
   "cell_type": "markdown",
   "metadata": {
    "colab_type": "text",
    "id": "m3mccmiHeEi8"
   },
   "source": [
    "Plot the scatter plot on test data. On top of this scatter plot, plot the decision boundaries."
   ]
  },
  {
   "cell_type": "markdown",
   "metadata": {
    "colab_type": "text",
    "id": "jNOuPeBuemS2"
   },
   "source": [
    "As you can see, a straight line is not the best decision boundary for this type of data. In the next part, we will try polynomial feature mapping to generate more features and build the classifier on top of it."
   ]
  },
  {
   "cell_type": "markdown",
   "metadata": {
    "colab_type": "text",
    "id": "ciF6EYBIeciU"
   },
   "source": [
    "## Problem 3, Part C: Polynomial Feature Mapping\n"
   ]
  },
  {
   "cell_type": "markdown",
   "metadata": {
    "colab_type": "text",
    "id": "mdqHppFWecis"
   },
   "source": [
    "\n",
    "Use Dataset B (``data_prob3_partb.csv``) for this part of the question.\n"
   ]
  },
  {
   "cell_type": "code",
   "execution_count": 110,
   "metadata": {
    "colab": {},
    "colab_type": "code",
    "id": "5A7KCyZYecjB"
   },
   "outputs": [],
   "source": [
    "import pandas as pd\n",
    "import numpy as np\n",
    "dataC = pd.read_csv('./data_prob3_partb.csv')"
   ]
  },
  {
   "cell_type": "markdown",
   "metadata": {
    "colab_type": "text",
    "id": "ebLzYBYAecjy"
   },
   "source": [
    "Generate more features for each datapoint using the following transformation.\n",
    "\n",
    "For a datapoint $(x_1, x_2)$,\n",
    "$$ (x_1, x_2) \\rightarrow (x_1, x_2, x_1^2, x_2^2, x_1^3, x_2^3, ..., x_1^T, x_2^T) $$\n",
    "Now, instead of giving $(x_1, x_2)$ as the input to the classifier, use the transformed data as the input to the classifier."
   ]
  },
  {
   "cell_type": "markdown",
   "metadata": {
    "colab_type": "text",
    "id": "8XraF1LYgGic"
   },
   "source": [
    "Generate the transformed training and testing dataset using Dataset B (``data_prob3_partb.csv``)."
   ]
  },
  {
   "cell_type": "code",
   "execution_count": 111,
   "metadata": {
    "colab": {},
    "colab_type": "code",
    "id": "1UG8Aa37eckB"
   },
   "outputs": [],
   "source": [
    "\n",
    "y = dataC['Output label']\n",
    "X= dataC.drop(['Output label'],axis=1)\n",
    "\n",
    "from sklearn.model_selection import train_test_split\n",
    "X_train, X_test, y_train, y_test = train_test_split(X, y, test_size=0.25)"
   ]
  },
  {
   "cell_type": "code",
   "execution_count": 112,
   "metadata": {},
   "outputs": [],
   "source": [
    "from sklearn.preprocessing import PolynomialFeatures \n",
    "  \n",
    "poly = PolynomialFeatures(degree = 2) \n",
    "X_poly = poly.fit_transform(X_train)\n"
   ]
  },
  {
   "cell_type": "markdown",
   "metadata": {
    "colab_type": "text",
    "id": "xq7lZvceeckj"
   },
   "source": [
    "Build the logistic regression model using the transformed training data. The scikit library can be used to build the model. Bonus marks will be awarded if the model is built from scratch without using any external libraries."
   ]
  },
  {
   "cell_type": "code",
   "execution_count": 113,
   "metadata": {
    "colab": {},
    "colab_type": "code",
    "id": "Gjx4dS_Necks"
   },
   "outputs": [
    {
     "name": "stdout",
     "output_type": "stream",
     "text": [
      "Accuracy:  0.864\n"
     ]
    }
   ],
   "source": [
    "from sklearn.linear_model import LogisticRegression\n",
    "from sklearn import metrics\n",
    "\n",
    "log_reg = LogisticRegression()\n",
    "log_reg.fit(X_poly,y_train)\n",
    "\n",
    "y_pred=log_reg.predict(poly.fit_transform(X_test))\n",
    "print('Accuracy: ',metrics.accuracy_score(y_test, y_pred))"
   ]
  },
  {
   "cell_type": "markdown",
   "metadata": {
    "colab_type": "text",
    "id": "bx0chW1jgxUO"
   },
   "source": [
    "Try different values of $T$ (highest number of degree) between 3 to 10. Find out which value of $T$ gives the best test accuracy. Please print that values of $T$ in the below cell."
   ]
  },
  {
   "cell_type": "code",
   "execution_count": 114,
   "metadata": {
    "colab": {},
    "colab_type": "code",
    "id": "tpogT2Eugxdu"
   },
   "outputs": [
    {
     "name": "stdout",
     "output_type": "stream",
     "text": [
      "\n",
      "Train accuracy for 2 -degree model: 0.874\n",
      "Test Accuracy for  2 -degree model:  0.864\n",
      "\n",
      "Train accuracy for 3 -degree model: 0.976\n",
      "Test Accuracy for  3 -degree model:  0.968\n",
      "\n",
      "Train accuracy for 4 -degree model: 0.9833333333333333\n",
      "Test Accuracy for  4 -degree model:  0.976\n",
      "\n",
      "Train accuracy for 5 -degree model: 0.986\n",
      "Test Accuracy for  5 -degree model:  0.9786666666666667\n",
      "\n",
      "Train accuracy for 6 -degree model: 0.9873333333333333\n",
      "Test Accuracy for  6 -degree model:  0.9813333333333333\n",
      "\n",
      "Train accuracy for 7 -degree model: 0.986\n",
      "Test Accuracy for  7 -degree model:  0.9786666666666667\n",
      "\n",
      "Train accuracy for 8 -degree model: 0.988\n",
      "Test Accuracy for  8 -degree model:  0.9786666666666667\n",
      "\n",
      "Train accuracy for 9 -degree model: 0.988\n",
      "Test Accuracy for  9 -degree model:  0.9786666666666667\n",
      "\n",
      "Train accuracy for 10 -degree model: 0.9866666666666667\n",
      "Test Accuracy for  10 -degree model:  0.9733333333333334\n"
     ]
    }
   ],
   "source": [
    "for t in range(2,11):\n",
    "    poly = PolynomialFeatures(degree = t) \n",
    "    X_poly = poly.fit_transform(X_train)\n",
    "    \n",
    "    log_reg = LogisticRegression()\n",
    "    log_reg.fit(X_poly,y_train)\n",
    "    print('\\nTrain accuracy for',t,'-degree model:',log_reg.score(poly.fit_transform(X),y))\n",
    "    \n",
    "    y_pred=log_reg.predict(poly.fit_transform(X_test))\n",
    "    print('Test Accuracy for ',t,'-degree model: ',metrics.accuracy_score(y_test, y_pred))"
   ]
  },
  {
   "cell_type": "markdown",
   "metadata": {},
   "source": [
    "Since accuracy slightly saturates from degree-4 model, we'll proceed with it."
   ]
  },
  {
   "cell_type": "markdown",
   "metadata": {
    "colab_type": "text",
    "id": "v35BcgyzitzF"
   },
   "source": [
    "Print the final weights."
   ]
  },
  {
   "cell_type": "code",
   "execution_count": 115,
   "metadata": {
    "colab": {},
    "colab_type": "code",
    "id": "xQRATqLLitzi"
   },
   "outputs": [
    {
     "data": {
      "text/plain": [
       "1.4461951379645313"
      ]
     },
     "execution_count": 115,
     "metadata": {},
     "output_type": "execute_result"
    }
   ],
   "source": [
    "poly = PolynomialFeatures(degree = 4) \n",
    "X_poly = poly.fit_transform(X_train)\n",
    "\n",
    "log_reg = LogisticRegression()\n",
    "log_reg.fit(X_poly,y_train)\n",
    "    \n",
    "y_pred=log_reg.predict(poly.fit_transform(X_test))\n",
    "\n",
    "intercept = log_reg.intercept_[0];intercept"
   ]
  },
  {
   "cell_type": "code",
   "execution_count": 116,
   "metadata": {},
   "outputs": [
    {
     "data": {
      "text/plain": [
       "array([ 1.44619514, -0.22594524, -3.41240872, -7.04182758, -1.52244919,\n",
       "       -0.4950349 ,  1.7146317 , -2.54435055,  1.06444146, -2.09188436,\n",
       "        1.99375509, -0.11424953,  0.12386629, -0.10847462, -1.42419403])"
      ]
     },
     "execution_count": 116,
     "metadata": {},
     "output_type": "execute_result"
    }
   ],
   "source": [
    "coef = log_reg.coef_[0]; coef"
   ]
  },
  {
   "cell_type": "markdown",
   "metadata": {
    "colab_type": "text",
    "id": "n9wbRysyeclC"
   },
   "source": [
    "Print the final accuracy on transformed test data."
   ]
  },
  {
   "cell_type": "code",
   "execution_count": 117,
   "metadata": {
    "colab": {},
    "colab_type": "code",
    "id": "nljp_btdeclI"
   },
   "outputs": [
    {
     "name": "stdout",
     "output_type": "stream",
     "text": [
      "Accuracy:  0.976\n"
     ]
    }
   ],
   "source": [
    "print('Accuracy: ',metrics.accuracy_score(y_test, y_pred))"
   ]
  },
  {
   "cell_type": "markdown",
   "metadata": {
    "colab_type": "text",
    "id": "hZw-H4Wuecle"
   },
   "source": [
    "Plot the scatter plot on test data (note that this is  the original data , not the transformed one). On top of this scatter plot, plot the new decision boundaries."
   ]
  },
  {
   "cell_type": "code",
   "execution_count": 120,
   "metadata": {
    "colab": {},
    "colab_type": "code",
    "id": "6btn-cxDeclk"
   },
   "outputs": [
    {
     "data": {
      "image/png": "[encoded data removed]",
      "text/plain": [
       "<Figure size 432x288 with 2 Axes>"
      ]
     },
     "metadata": {},
     "output_type": "display_data"
    }
   ],
   "source": [
    "plt.figure()\n",
    "cdict={0:'red', 1:'blue'}\n",
    "for i in range(2):\n",
    "    ix= (y_test==i)\n",
    "    plt.scatter(X_test[ix]['Input feature 1'], X_test[ix]['Input feature 2'],c='red' if i==0 else 'blue', label = i)\n",
    "ax = plt.gca()\n",
    "ax.autoscale(False)\n",
    "x_vals = np.array(ax.get_xlim())\n",
    "y_vals = np.array(ax.get_ylim())\n",
    "#plt.plot(x_vals, y_vals, '--', c=\"green\")\n",
    "\n",
    "#plt.legend()\n",
    "#plt.show()\n",
    "\n",
    "h = 0.2\n",
    "x_min, x_max = x_vals \n",
    "y_min, y_max = y_vals\n",
    "\n",
    "xx, yy = np.meshgrid(np.arange(x_min, x_max, h), np.arange(y_min, y_max, h))\n",
    "\n",
    "Z = log_reg.predict(poly.fit_transform(np.c_[xx.ravel(), yy.ravel()]))\n",
    "Z = Z.reshape(xx.shape)\n",
    "#plt.figure()\n",
    "plt.contourf(xx, yy, Z, cmap=plt.cm.Paired)\n",
    "plt.title(\"Decision surface \")\n",
    "plt.axis('tight')\n",
    "plt.colorbar()\n",
    "\n",
    "cdict={0:'red', 1:'blue'}\n",
    "for i in range(2):\n",
    "    ix= (y_test==i)\n",
    "    plt.scatter(X_test[ix]['Input feature 1'], X_test[ix]['Input feature 2'],c='red' if i==0 else 'blue', label = i)"
   ]
  },
  {
   "cell_type": "markdown",
   "metadata": {
    "colab_type": "text",
    "id": "m7j1dg8ibMzr"
   },
   "source": [
    "## Problem 3, Part D: Multi-class Logistic Regression"
   ]
  },
  {
   "cell_type": "markdown",
   "metadata": {
    "colab_type": "text",
    "id": "gTt_8MS4Zm03"
   },
   "source": [
    "## Multi-class Logistic Regression\n",
    "\n",
    "In case of a multi-class classification problem (when the number of classes is greater than two), a **softmax function** is used instead. \n",
    "$$\\text{Softmax}(\\theta_{i}) = \\frac{\\exp(\\theta_i)}{\\sum_{j=1}^{N} \\exp(\\theta_j)}$$ where $j$ varies from $1$ to $N$ which is the number of classes and  $\\theta_{i}$ is $$\\theta_{i}=W_{i}*x^{(i)}+b$$ Where $x^{(i)}$ is a feature  vector of dimensions $D \\times 1$ and $W_{i}$ is the $i$-th row of the weight matrix $ W$ of  dimensions $N \\times D$  and $b$ is the bias having dimensions $D \\times 1$."
   ]
  },
  {
   "cell_type": "markdown",
   "metadata": {
    "colab_type": "text",
    "id": "485Jjh7CiWpz"
   },
   "source": [
    "\n",
    "Use Dataset D (``data_prob3_partd.csv``) for this part of the question. The given CSV file has three columns: column 1 is the first input feature, column 2 is the second input feature and column 3 is the output label. Split the dataset into training data (75%) and testing data (25%) randomly.\n"
   ]
  },
  {
   "cell_type": "code",
   "execution_count": 28,
   "metadata": {
    "colab": {},
    "colab_type": "code",
    "id": "CxWD-mjQiWp_"
   },
   "outputs": [],
   "source": [
    "import pandas as pd\n",
    "import numpy as np\n",
    "dataD = pd.read_csv('./data_prob3_partd.csv')"
   ]
  },
  {
   "cell_type": "code",
   "execution_count": 29,
   "metadata": {},
   "outputs": [
    {
     "data": {
      "text/plain": [
       "array([2., 1., 0.])"
      ]
     },
     "execution_count": 29,
     "metadata": {},
     "output_type": "execute_result"
    }
   ],
   "source": [
    "dataD['Output label'].unique()"
   ]
  },
  {
   "cell_type": "code",
   "execution_count": 30,
   "metadata": {},
   "outputs": [],
   "source": [
    "y = dataD['Output label']\n",
    "X= dataD.drop(['Output label'],axis=1)\n",
    "\n",
    "from sklearn.model_selection import train_test_split\n",
    "X_train, X_test, y_train, y_test = train_test_split(X, y, test_size=0.25)"
   ]
  },
  {
   "cell_type": "markdown",
   "metadata": {
    "colab_type": "text",
    "id": "EIImFy8DiWqi"
   },
   "source": [
    "Visualize the training data with a scatter plot (input feature 1 on the X axis, input feature 2 on the Y axis and color the points according to their labels)."
   ]
  },
  {
   "cell_type": "code",
   "execution_count": 31,
   "metadata": {
    "colab": {},
    "colab_type": "code",
    "id": "9wSbHk9SiWqt"
   },
   "outputs": [
    {
     "data": {
      "image/png": "[encoded data removed]",
      "text/plain": [
       "<Figure size 432x288 with 1 Axes>"
      ]
     },
     "metadata": {},
     "output_type": "display_data"
    }
   ],
   "source": [
    "import matplotlib.pyplot as plt\n",
    "plt.figure()\n",
    "cdict={0:'red', 1:'blue',2:'green'}\n",
    "for i in range(3):\n",
    "    ix= (y_train==i)\n",
    "    plt.scatter(X_train[ix]['Input feature 1'], X_train[ix]['Input feature 2'],c=cdict[i], label = i)\n",
    "plt.legend()\n",
    "plt.show()"
   ]
  },
  {
   "cell_type": "markdown",
   "metadata": {
    "colab_type": "text",
    "id": "ERqEDKMsiWrM"
   },
   "source": [
    "Build the logistic regression model using the training data. The scikit library can be used to build the model. Bonus marks will be awarded if the model is built from scratch without using any external libraries."
   ]
  },
  {
   "cell_type": "code",
   "execution_count": 32,
   "metadata": {
    "colab": {},
    "colab_type": "code",
    "id": "B11GMS_niWrY"
   },
   "outputs": [
    {
     "name": "stdout",
     "output_type": "stream",
     "text": [
      "training score : 0.943 \n"
     ]
    }
   ],
   "source": [
    "from sklearn.linear_model import LogisticRegression\n",
    "from sklearn import metrics\n",
    "multi_class='ovr'\n",
    "clf = LogisticRegression(multi_class='ovr')\n",
    "clf.fit(X_train,y_train)\n",
    "\n",
    "print(\"training score : %.3f \" % (clf.score(X, y)))\n"
   ]
  },
  {
   "cell_type": "markdown",
   "metadata": {
    "colab_type": "text",
    "id": "hWzOaNrkimv3"
   },
   "source": [
    "Print the final weights."
   ]
  },
  {
   "cell_type": "code",
   "execution_count": 33,
   "metadata": {
    "colab": {},
    "colab_type": "code",
    "id": "rAUpUwbZim2X"
   },
   "outputs": [
    {
     "data": {
      "text/plain": [
       "array([-0.5586898 ,  5.96339468, -9.20234659])"
      ]
     },
     "execution_count": 33,
     "metadata": {},
     "output_type": "execute_result"
    }
   ],
   "source": [
    "intercept = clf.intercept_;intercept"
   ]
  },
  {
   "cell_type": "code",
   "execution_count": 34,
   "metadata": {},
   "outputs": [
    {
     "data": {
      "text/plain": [
       "array([[-0.19388295,  0.08486393],\n",
       "       [-0.04958299, -0.13053627],\n",
       "       [ 0.23884796,  0.03459586]])"
      ]
     },
     "execution_count": 34,
     "metadata": {},
     "output_type": "execute_result"
    }
   ],
   "source": [
    "coef = clf.coef_; coef"
   ]
  },
  {
   "cell_type": "markdown",
   "metadata": {
    "colab_type": "text",
    "id": "-UucCk_-iWry"
   },
   "source": [
    "Print the final accuracy on test data."
   ]
  },
  {
   "cell_type": "code",
   "execution_count": 10,
   "metadata": {
    "colab": {},
    "colab_type": "code",
    "id": "aB6wvccOiWr8"
   },
   "outputs": [
    {
     "name": "stdout",
     "output_type": "stream",
     "text": [
      "Accuracy:  0.9413333333333334\n"
     ]
    }
   ],
   "source": [
    "y_pred=clf.predict(X_test)\n",
    "print('Accuracy: ',metrics.accuracy_score(y_test, y_pred))"
   ]
  },
  {
   "cell_type": "markdown",
   "metadata": {
    "colab_type": "text",
    "id": "WnTHrX6hiWsT"
   },
   "source": [
    "Plot the scatter plot on test data. On top of this scatter plot, plot the decision boundaries."
   ]
  },
  {
   "cell_type": "code",
   "execution_count": 11,
   "metadata": {
    "colab": {},
    "colab_type": "code",
    "id": "HuBkU27yiWsb"
   },
   "outputs": [
    {
     "data": {
      "image/png": "[encoded data removed]",
      "text/plain": [
       "<Figure size 432x288 with 1 Axes>"
      ]
     },
     "metadata": {},
     "output_type": "display_data"
    }
   ],
   "source": [
    "plt.figure()\n",
    "cdict={0:'red', 1:'blue',2:'green'}\n",
    "for i in range(3):\n",
    "    ix= (y_train==i)\n",
    "    plt.scatter(X_train[ix]['Input feature 1'], X_train[ix]['Input feature 2'],c=cdict[i], label = i)\n",
    "ax = plt.gca()\n",
    "ax.autoscale(False)\n",
    "x_vals = np.array(ax.get_xlim())\n",
    "y_vals_1 = -(x_vals * coef[0][0] +intercept[0])/coef[0][1]\n",
    "y_vals_2 = -(x_vals * coef[1][0] +intercept[1])/coef[1][1]\n",
    "y_vals_3 = -(x_vals * coef[2][0] +intercept[2])/coef[2][1]\n",
    "\n",
    "plt.plot(x_vals, y_vals_1,'--', c='red')\n",
    "plt.plot(x_vals, y_vals_2,'--', c='blue')\n",
    "plt.plot(x_vals, y_vals_3,'--', c='green')\n",
    "\n",
    "plt.legend()\n",
    "plt.show()"
   ]
  },
  {
   "cell_type": "markdown",
   "metadata": {
    "colab_type": "text",
    "id": "lRzDZxIhn76D"
   },
   "source": [
    "# Problem 4: Learning on real world datasets\n",
    "\n",
    "*Cric_data.csv* contains the batting averages and bowling averages of various cricket players along with their role in the team (Bowler/Batsman/Allrounder). The task is to predict the player role based on their batting and bowling averages."
   ]
  },
  {
   "cell_type": "markdown",
   "metadata": {
    "colab_type": "text",
    "id": "s-NWN2KyoW6K"
   },
   "source": [
    "In the next CodeWrite cell, extract the required columns from the csv file, partition the data into training (75%) and testing (25%) data randomly.  "
   ]
  },
  {
   "cell_type": "code",
   "execution_count": 35,
   "metadata": {
    "colab": {},
    "colab_type": "code",
    "id": "Ww4f4B90oW6T"
   },
   "outputs": [],
   "source": [
    "# Extract data and partition\n",
    "\n",
    "import pandas as pd\n",
    "inp = pd.read_csv('Cric_data.csv', usecols=['Batting Average', 'Bowling Average', 'Player Class']).values\n",
    "\n",
    "X = inp[:,:2]\n",
    "y = inp[:, 2]\n",
    "\n",
    "from sklearn.model_selection import train_test_split\n",
    "X_train, X_test, y_train, y_test = train_test_split(X, y, test_size=0.25)\n"
   ]
  },
  {
   "cell_type": "markdown",
   "metadata": {
    "colab_type": "text",
    "id": "K5ED_HDQoW6l"
   },
   "source": [
    "**Binary Classification:**\n",
    "\n",
    "Derive the classifiers under the assumptions below, and use ML estimators to compute and return the results on the test set. *Consider only batsmen and bowlers in this part*.\n",
    "\n",
    "Let random variable $\\underline X$ represent (Batting Average, Bowling Average) of a player whose role is a random variable $Y$.\n",
    "\n",
    "1a) Linear Predictor: Assume $\\underline X|Y=Batsman \\sim \\mathcal{N}(\\underline {\\mu_-}, I)$ and  $X|Y=Bowler \\sim \\mathcal{N}(\\underline {\\mu_+}, I)$. \n",
    "\n",
    "1b) Bayes Classifier: Assume $\\underline X|Y=Batsman \\sim \\mathcal{N}(\\underline {\\mu_-}, \\Sigma_-)$ and  $X|Y=Bowler \\sim \\mathcal{N}(\\underline {\\mu_+}, \\Sigma_+)$. "
   ]
  },
  {
   "cell_type": "code",
   "execution_count": 36,
   "metadata": {
    "colab": {},
    "colab_type": "code",
    "id": "NFFcaecYoW6t"
   },
   "outputs": [],
   "source": [
    "def Lin_clsf_1a(X_train, y_train, X_test):\n",
    "    \"\"\" Give prediction for test data using assumption 1a.\n",
    "\n",
    "    Arguments:\n",
    "    X_train: numpy array of shape (n,2)\n",
    "    Y_train: +1/-1 numpy array of shape (n,)\n",
    "    X_test : numpy array of shape (m,2)\n",
    "\n",
    "    Returns:\n",
    "    Y_test_pred : +1/-1 numpy array of shape (m,)\n",
    "\n",
    "    \"\"\"\n",
    "    import numpy as np\n",
    "    \n",
    "    X_minus = X_train[y_train== -1]\n",
    "    \n",
    "    mean_minus = X_minus.mean(0)\n",
    "    #cov_minus = np.cov(X_minus.T)\n",
    "    \n",
    "    \n",
    "    X_plus = X_train[y_train== 1]\n",
    "    \n",
    "    mean_plus = X_plus.mean(0)\n",
    "    #cov_plus = np.cov(X_plus.T)\n",
    "    \n",
    "    from scipy.stats import multivariate_normal\n",
    "    \n",
    "    y_minus = multivariate_normal.pdf(X_test, mean=mean_minus, cov= np.identity(2))\n",
    "    y_plus = multivariate_normal.pdf(X_test, mean=mean_plus, cov= np.identity(2))\n",
    "    \n",
    "    y_pred=np.ones(y_plus.shape)\n",
    "    for i in range(len(y_plus)):    \n",
    "        y_pred[i] =  -1 if y_minus[i] > y_plus[i] else 1\n",
    "    \n",
    "    return y_pred\n",
    "\n",
    "def Bayes_clsf_1b(X_train, y_train, X_test):\n",
    "    \"\"\" Give prediction for test data using assumption 1b.\n",
    "\n",
    "    Arguments:\n",
    "    X_train: numpy array of shape (n,2)\n",
    "    Y_train: +1/-1 numpy array of shape (n,)\n",
    "    X_test : numpy array of shape (m,2)\n",
    "\n",
    "    Returns:\n",
    "    Y_test_pred : +1/-1 numpy array of shape (m,)\n",
    "\n",
    "    \"\"\"\n",
    "    import numpy as np\n",
    "    \n",
    "    X_minus = X_train[y_train== -1]\n",
    "    \n",
    "    mean_minus = X_minus.mean(0)\n",
    "    cov_minus = np.cov(X_minus.T)\n",
    "    \n",
    "    X_plus = X_train[y_train== 1]\n",
    "    \n",
    "    mean_plus = X_plus.mean(0)\n",
    "    cov_plus = np.cov(X_plus.T)\n",
    "    \n",
    "    from scipy.stats import multivariate_normal\n",
    "    \n",
    "    y_minus = multivariate_normal.pdf(X_test, mean=mean_minus, cov= cov_minus)\n",
    "    y_plus = multivariate_normal.pdf(X_test, mean=mean_plus, cov= cov_plus)\n",
    "    \n",
    "    y_pred=np.ones(y_plus.shape)\n",
    "    for i in range(len(y_plus)):    \n",
    "        y_pred[i] =  -1 if y_minus[i] > y_plus[i] else 1\n",
    "    \n",
    "    return y_pred"
   ]
  },
  {
   "cell_type": "code",
   "execution_count": 37,
   "metadata": {},
   "outputs": [
    {
     "name": "stdout",
     "output_type": "stream",
     "text": [
      "Accuracy:  0.8252427184466019\n",
      "Accuracy:  0.9271844660194175\n"
     ]
    }
   ],
   "source": [
    "y_pred1 = Lin_clsf_1a(X_train, y_train, X_test[y_test != 0])\n",
    "y_pred2 = Bayes_clsf_1b(X_train, y_train, X_test[y_test != 0])\n",
    "\n",
    "from sklearn import metrics\n",
    "print('Accuracy: ',metrics.accuracy_score(y_test[y_test != 0], y_pred1))\n",
    "print('Accuracy: ',metrics.accuracy_score(y_test[y_test != 0], y_pred2))"
   ]
  },
  {
   "cell_type": "markdown",
   "metadata": {
    "colab_type": "text",
    "id": "nbkxj8euoW65"
   },
   "source": [
    "**Multi-class Classification:**\n",
    "\n",
    "Derive the classifiers under the assumptions below, and use ML estimators to compute and return the results on the test set. *Consider batsmen, bowlers and allrounders in this part*.\n",
    "\n",
    "Let random variable $\\underline X$ represent (Batting Average, Bowling Average) of a player whose role is a random variable $Y$.\n",
    "\n",
    "The $3\\times 3$ loss matrix giving the loss incurred for predicting $i$ when truth is $j$ is below. (Ordering: Batsman - Allrounder - Bowler)\n",
    "\n",
    "$L=\\begin{bmatrix} 0 &1 & 2\\\\ 1 &0 & 1\\\\ 2 &1 & 0\\end{bmatrix}$ \n",
    "\n",
    "2a) Linear Predictor: Assume $\\underline X|Y=a \\sim \\mathcal{N}(\\underline {\\mu_a}, I)$\n",
    "\n",
    "2b) Bayes Classifier: Assume $\\underline X|Y=a \\sim \\mathcal{N}(\\underline {\\mu_a}, \\Sigma_a)$"
   ]
  },
  {
   "cell_type": "code",
   "execution_count": 38,
   "metadata": {
    "colab": {},
    "colab_type": "code",
    "id": "kxKx5gBfoW69"
   },
   "outputs": [],
   "source": [
    "def Lin_clsf_2a(X_train, y_train, X_test):\n",
    "    \"\"\" Give prediction for test data using assumption 2a.\n",
    "\n",
    "    Arguments:\n",
    "    X_train: numpy array of shape (n,3)\n",
    "    Y_train: +1/0/-1 numpy array of shape (n,)\n",
    "    X_test : numpy array of shape (m,3)\n",
    "\n",
    "    Returns:\n",
    "    Y_test_pred : +1/0/-1 numpy array of shape (m,)\n",
    "\n",
    "    \"\"\"\n",
    "    import numpy as np\n",
    "    \n",
    "    X_minus = X_train[y_train== -1]\n",
    "    \n",
    "    mean_minus = X_minus.mean(0)\n",
    "    #cov_minus = np.cov(X_minus.T)\n",
    "    \n",
    "    X_zero = X_train[y_train== 0]\n",
    "    \n",
    "    mean_zero = X_zero.mean(0)\n",
    "    \n",
    "    X_plus = X_train[y_train== 1]\n",
    "    \n",
    "    mean_plus = X_plus.mean(0)\n",
    "    #cov_plus = np.cov(X_plus.T)\n",
    "    \n",
    "    from scipy.stats import multivariate_normal\n",
    "    \n",
    "    y_minus = multivariate_normal.pdf(X_test, mean=mean_minus, cov= np.identity(2))\n",
    "    y_zero = multivariate_normal.pdf(X_test, mean=mean_zero, cov= np.identity(2))\n",
    "    y_plus = multivariate_normal.pdf(X_test, mean=mean_plus, cov= np.identity(2))\n",
    "    \n",
    "    y = np.c_[y_minus,y_zero, y_plus]\n",
    "    \n",
    "    #L_ = np.matmul(y, L)\n",
    "    #print(y.shape,L.shape)\n",
    "    #L_zero =   np.matmul(y, L[1])\n",
    "    #L_plus = np.matmul(y, L[2])\n",
    "    \n",
    "    y_pred=np.ones(y_plus.shape)\n",
    "    loss_plus=np.ones(y_plus.shape)\n",
    "    loss_zero=np.ones(y_plus.shape)\n",
    "    loss_minus=np.ones(y_plus.shape)\n",
    "    for i in range(len(y_plus)):\n",
    "        loss_plus[i] = (y_zero[i]) + (2*y_minus[i])\n",
    "        loss_zero[i] = (y_plus[i]) + (y_minus[i])\n",
    "        loss_minus[i] = (2*y_plus[i]) + (y_zero[i]) \n",
    "        \n",
    "        y_pred[i] =  np.argmin( np.array([loss_minus[i], loss_zero[i], loss_plus[i]]))-1\n",
    "        \n",
    "    \n",
    "    return y_pred\n",
    "\n",
    "\n",
    "\n",
    "\n",
    "\n",
    "def Bayes_clsf_2b(X_train, y_train, X_test):\n",
    "    \"\"\" Give prediction for test data using assumption 2b.\n",
    "\n",
    "    Arguments:\n",
    "    X_train: numpy array of shape (n,3)\n",
    "    Y_train: +1/0/-1 numpy array of shape (n,)\n",
    "    X_test : numpy array of shape (m,3)\n",
    "\n",
    "    Returns:\n",
    "    Y_test_pred : +1/0/-1 numpy array of shape (m,)\n",
    "\n",
    "    \"\"\"\n",
    "    import numpy as np\n",
    "    \n",
    "    X_minus = X_train[y_train== -1]\n",
    "    \n",
    "    mean_minus = X_minus.mean(0)\n",
    "    cov_minus = np.cov(X_minus.T)\n",
    "    \n",
    "    X_zero = X_train[y_train== 0]\n",
    "    \n",
    "    mean_zero = X_zero.mean(0)\n",
    "    cov_zero = np.cov(X_zero.T)\n",
    "    \n",
    "    X_plus = X_train[y_train== 1]\n",
    "    \n",
    "    mean_plus = X_plus.mean(0)\n",
    "    cov_plus = np.cov(X_plus.T)\n",
    "    \n",
    "    from scipy.stats import multivariate_normal\n",
    "    \n",
    "    y_minus = multivariate_normal.pdf(X_test, mean=mean_minus, cov= cov_minus)\n",
    "    y_zero = multivariate_normal.pdf(X_test, mean=mean_zero, cov= cov_zero)\n",
    "    y_plus = multivariate_normal.pdf(X_test, mean=mean_plus, cov= cov_plus)\n",
    "    \n",
    "    y_pred=np.ones(y_plus.shape)\n",
    "    loss_plus=np.ones(y_plus.shape)\n",
    "    loss_zero=np.ones(y_plus.shape)\n",
    "    loss_minus=np.ones(y_plus.shape)\n",
    "    for i in range(len(y_plus)):\n",
    "        loss_plus[i] = (y_zero[i]) + (2*y_minus[i])\n",
    "        loss_zero[i] = (y_plus[i]) + (y_minus[i])\n",
    "        loss_minus[i] = (2*y_plus[i]) + (y_zero[i]) \n",
    "        y_pred[i] =  np.argmin( np.array([loss_minus[i], loss_zero[i], loss_plus[i]]))-1\n",
    "    \n",
    "    return y_pred    "
   ]
  },
  {
   "cell_type": "code",
   "execution_count": 39,
   "metadata": {},
   "outputs": [
    {
     "name": "stdout",
     "output_type": "stream",
     "text": [
      "Accuracy:  0.7044025157232704\n",
      "Accuracy:  0.6729559748427673\n"
     ]
    }
   ],
   "source": [
    "y_pred1 = Lin_clsf_2a(X_train, y_train, X_test)\n",
    "y_pred2 = Bayes_clsf_2b(X_train, y_train, X_test)\n",
    "\n",
    "from sklearn import metrics\n",
    "print('Accuracy: ',metrics.accuracy_score(y_test, y_pred1))\n",
    "print('Accuracy: ',metrics.accuracy_score(y_test, y_pred2))"
   ]
  },
  {
   "cell_type": "markdown",
   "metadata": {
    "colab_type": "text",
    "id": "Isp0HQWroW7J"
   },
   "source": [
    "**Plots:**\n",
    "\n",
    "In the next CodeWrite cell, plot all the 4 classifiers on a 2d plot. Take a suitable grid covering averages (0,60) in both dimensions. (Color the different classes accordingly). Add the training data points also on the plot. Label the plots appropriately. "
   ]
  },
  {
   "cell_type": "code",
   "execution_count": 40,
   "metadata": {},
   "outputs": [],
   "source": [
    "import matplotlib.pyplot as plt\n",
    "import numpy as np"
   ]
  },
  {
   "cell_type": "code",
   "execution_count": 41,
   "metadata": {},
   "outputs": [
    {
     "data": {
      "text/plain": [
       "<matplotlib.legend.Legend at 0x2171b65d0b8>"
      ]
     },
     "execution_count": 41,
     "metadata": {},
     "output_type": "execute_result"
    },
    {
     "data": {
      "image/png": "[encoded data removed]",
      "text/plain": [
       "<Figure size 432x288 with 2 Axes>"
      ]
     },
     "metadata": {},
     "output_type": "display_data"
    }
   ],
   "source": [
    "h = 0.2\n",
    "x_min, x_max, y_min, y_max = 0, 60, 0, 60\n",
    "xx, yy = np.meshgrid(np.arange(x_min, x_max, h), np.arange(y_min, y_max, h))\n",
    "\n",
    "Z = Lin_clsf_1a(X[y!=0], y[y!=0], np.c_[xx.ravel(), yy.ravel()])\n",
    "Z = Z.reshape(xx.shape)\n",
    "plt.figure()\n",
    "plt.contourf(xx, yy, Z, cmap=plt.cm.Paired)\n",
    "plt.title(\"Decision surface of  Lin_clsf_1a \")\n",
    "plt.axis('tight')\n",
    "plt.xlabel('Batting Average')\n",
    "plt.ylabel('Bowling Average')\n",
    "plt.colorbar()\n",
    "cdict={0:'red', 1:'blue',2:'yellow'}\n",
    "for i in [0,2]:\n",
    "    ix= (y==i-1)\n",
    "    plt.scatter(X[:,0][ix][::3], X[:,1][ix][::3],c=cdict[i], label = i)\n",
    "plt.legend()"
   ]
  },
  {
   "cell_type": "code",
   "execution_count": 42,
   "metadata": {},
   "outputs": [
    {
     "data": {
      "text/plain": [
       "<matplotlib.legend.Legend at 0x2171b71ae80>"
      ]
     },
     "execution_count": 42,
     "metadata": {},
     "output_type": "execute_result"
    },
    {
     "data": {
      "image/png": "[encoded data removed]",
      "text/plain": [
       "<Figure size 432x288 with 2 Axes>"
      ]
     },
     "metadata": {},
     "output_type": "display_data"
    }
   ],
   "source": [
    "h = 0.2\n",
    "x_min, x_max, y_min, y_max = 0, 60, 0, 60\n",
    "xx, yy = np.meshgrid(np.arange(x_min, x_max, h), np.arange(y_min, y_max, h))\n",
    "\n",
    "Z = Bayes_clsf_1b(X[y!=0], y[y!=0], np.c_[xx.ravel(), yy.ravel()])\n",
    "Z = Z.reshape(xx.shape)\n",
    "plt.figure()\n",
    "plt.contourf(xx, yy, Z, cmap=plt.cm.Paired)\n",
    "plt.title(\"Decision surface of  Bayes_clsf_1b \")\n",
    "plt.axis('tight')\n",
    "plt.xlabel('Batting Average')\n",
    "plt.ylabel('Bowling Average')\n",
    "plt.colorbar()\n",
    "cdict={0:'red', 1:'blue',2:'yellow'}\n",
    "for i in [0,2]:\n",
    "    ix= (y==i-1)\n",
    "    plt.scatter(X[:,0][ix][::3], X[:,1][ix][::3],c=cdict[i], label = i)\n",
    "plt.legend()"
   ]
  },
  {
   "cell_type": "code",
   "execution_count": 43,
   "metadata": {},
   "outputs": [
    {
     "data": {
      "text/plain": [
       "<matplotlib.legend.Legend at 0x2171b5eb898>"
      ]
     },
     "execution_count": 43,
     "metadata": {},
     "output_type": "execute_result"
    },
    {
     "data": {
      "image/png": "[encoded data removed]",
      "text/plain": [
       "<Figure size 432x288 with 2 Axes>"
      ]
     },
     "metadata": {},
     "output_type": "display_data"
    }
   ],
   "source": [
    "h = 0.2\n",
    "x_min, x_max, y_min, y_max = 0, 60, 0, 60\n",
    "xx, yy = np.meshgrid(np.arange(x_min, x_max, h), np.arange(y_min, y_max, h))\n",
    "\n",
    "Z = Lin_clsf_2a(X, y, np.c_[xx.ravel(), yy.ravel()])\n",
    "Z = Z.reshape(xx.shape)\n",
    "plt.figure()\n",
    "plt.contourf(xx, yy, Z, cmap=plt.cm.Paired)\n",
    "plt.title(\"Decision surface of  Lin_clsf_2a \")\n",
    "plt.axis('tight')\n",
    "plt.xlabel('Batting Average')\n",
    "plt.ylabel('Bowling Average')\n",
    "plt.colorbar()\n",
    "cdict={0:'red', 1:'blue',2:'yellow'}\n",
    "for i in range(3):\n",
    "    ix= (y==i-1)\n",
    "    plt.scatter(X[:,0][ix][::3], X[:,1][ix][::3],c=cdict[i], label = i)\n",
    "plt.legend()"
   ]
  },
  {
   "cell_type": "code",
   "execution_count": 44,
   "metadata": {},
   "outputs": [
    {
     "data": {
      "text/plain": [
       "<matplotlib.legend.Legend at 0x2171ab8b588>"
      ]
     },
     "execution_count": 44,
     "metadata": {},
     "output_type": "execute_result"
    },
    {
     "data": {
      "image/png": "[encoded data removed]",
      "text/plain": [
       "<Figure size 432x288 with 2 Axes>"
      ]
     },
     "metadata": {},
     "output_type": "display_data"
    }
   ],
   "source": [
    "h = 0.2\n",
    "x_min, x_max, y_min, y_max = 0, 60, 0, 60\n",
    "xx, yy = np.meshgrid(np.arange(x_min, x_max, h), np.arange(y_min, y_max, h))\n",
    "\n",
    "Z = Bayes_clsf_2b(X, y, np.c_[xx.ravel(), yy.ravel()])\n",
    "Z = Z.reshape(xx.shape)\n",
    "plt.figure()\n",
    "plt.contourf(xx, yy, Z, cmap=plt.cm.Paired)\n",
    "plt.title(\"Decision surface of  Bayes_clsf_2b \")\n",
    "plt.axis('tight')\n",
    "plt.xlabel('Batting Average')\n",
    "plt.ylabel('Bowling Average')\n",
    "plt.colorbar()\n",
    "cdict={0:'red', 1:'blue',2:'yellow'}\n",
    "for i in range(3):\n",
    "    ix= (y==i-1)\n",
    "    plt.scatter(X[:,0][ix][::3], X[:,1][ix][::3],c=cdict[i], label = i)\n",
    "plt.legend()\n"
   ]
  },
  {
   "cell_type": "markdown",
   "metadata": {
    "colab_type": "text",
    "id": "_fyQx73JoW7S"
   },
   "source": [
    "**Observations:**\n",
    "\n",
    "In the next Textwrite cell, summarise (use the plots of the data and the assumptions in the problem to explain) your observations regarding the four learnt classifiers, and also give the error rate of the four classifiers as a 2x2 table."
   ]
  },
  {
   "cell_type": "markdown",
   "metadata": {
    "colab_type": "text",
    "id": "fP7EhbdpoW7V"
   },
   "source": [
    "** Cell type : TextWrite ** \n",
    "(Write your observations and table of errors here)"
   ]
  },
  {
   "cell_type": "code",
   "execution_count": 45,
   "metadata": {},
   "outputs": [
    {
     "data": {
      "text/plain": [
       "array([36.85420925, 51.71939173])"
      ]
     },
     "execution_count": 45,
     "metadata": {},
     "output_type": "execute_result"
    }
   ],
   "source": [
    "X[y==-1].mean(0)"
   ]
  },
  {
   "cell_type": "code",
   "execution_count": 46,
   "metadata": {},
   "outputs": [
    {
     "data": {
      "text/plain": [
       "array([27.47091324, 35.03901826])"
      ]
     },
     "execution_count": 46,
     "metadata": {},
     "output_type": "execute_result"
    }
   ],
   "source": [
    "X[y==0].mean(0)"
   ]
  },
  {
   "cell_type": "code",
   "execution_count": 47,
   "metadata": {},
   "outputs": [
    {
     "data": {
      "text/plain": [
       "array([15.18477541, 28.6922695 ])"
      ]
     },
     "execution_count": 47,
     "metadata": {},
     "output_type": "execute_result"
    }
   ],
   "source": [
    "X[y==1].mean(0)"
   ]
  },
  {
   "cell_type": "markdown",
   "metadata": {},
   "source": [
    "### Observations\n",
    "We can observe that batsman has high batting and bowling averages.  \n",
    "All-rounders have both medium batting and bowling averages, and bowlers have both low. \n",
    "\n",
    "| Type    | Linear   | Bayes|\n",
    "| --------| ---------| ---- |\n",
    "| Binary  |     82   | 92   |\n",
    "| Multi   |    70    | 67   |\n",
    "\n",
    "Actually, the classifiers are pretty good but performance is not so good because of presence of lot of anomalies. Linear Classifiers can only get linear decision boundaries but Bayes classifiers can also create non- linear decision boundaries and can also capture dependance of two features."
   ]
  }
 ],
 "metadata": {
  "colab": {
   "collapsed_sections": [
    "YqdW05iuaJDW",
    "9Xue1NVSA3WS",
    "fGv7az_y6Wyk",
    "oRxDShbjAXjI",
    "slmjGSiuFPZv",
    "k_DDcDPx_zKo",
    "rBrANeu0aILI",
    "0akOo4P-EjhV",
    "zxGXZkGXbnmJ",
    "HCAFmjmFd2U0",
    "ciF6EYBIeciU",
    "gTt_8MS4Zm03",
    "lRzDZxIhn76D"
   ],
   "name": "Assignment1.ipynb",
   "provenance": []
  },
  "kernelspec": {
   "display_name": "Python 3",
   "language": "python",
   "name": "python3"
  },
  "language_info": {
   "codemirror_mode": {
    "name": "ipython",
    "version": 3
   },
   "file_extension": ".py",
   "mimetype": "text/x-python",
   "name": "python",
   "nbconvert_exporter": "python",
   "pygments_lexer": "ipython3",
   "version": "3.6.5"
  }
 },
 "nbformat": 4,
 "nbformat_minor": 1
}
